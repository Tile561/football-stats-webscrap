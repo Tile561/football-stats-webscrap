{
 "cells": [
  {
   "cell_type": "code",
   "execution_count": 7,
   "id": "84311f3b",
   "metadata": {},
   "outputs": [
    {
     "data": {
      "text/plain": [
       "\"\\n    for comment in soup.find_all(string=lambda text: isinstance(text, Comment)):\\n        if 'stats_standard' in comment:\\n            comment_soup = BeautifulSoup(comment, 'html.parser')\\n            table = comment_soup.find('table', id='stats_standard')\\n\""
      ]
     },
     "execution_count": 7,
     "metadata": {},
     "output_type": "execute_result"
    }
   ],
   "source": [
    "from scrape_stats_function import scrape_player_stats\n",
    "import time\n",
    "import pandas as pd\n",
    "'''\n",
    "    for comment in soup.find_all(string=lambda text: isinstance(text, Comment)):\n",
    "        if 'stats_standard' in comment:\n",
    "            comment_soup = BeautifulSoup(comment, 'html.parser')\n",
    "            table = comment_soup.find('table', id='stats_standard')\n",
    "'''"
   ]
  },
  {
   "cell_type": "code",
   "execution_count": 8,
   "id": "bf982576",
   "metadata": {},
   "outputs": [],
   "source": [
    "years = [\"2024-2025\",\"2023-2024\",\"2022-2023\",\"2021-2022\",\"2020-2021\",\"2019-2020\",\"2018-2019\",\"2017-2018\",\"2016-2017\",\"2015-2016\"]\n",
    "leagueinfo = [\n",
    "    {\n",
    "        \"name\": \"Bundesliga\",\n",
    "        \"url\": \"https://fbref.com/en/comps/20/{year}/stats/{year}-Bundesliga-Stats\"\n",
    "    },\n",
    "    {\n",
    "        \"name\": \"Premier League\",\n",
    "        \"url\": \"https://fbref.com/en/comps/9/{year}/stats/{year}-Premier-League-Stats\"\n",
    "    },\n",
    "    {\n",
    "        \"name\": \"La Liga\",\n",
    "        \"url\": \"https://fbref.com/en/comps/12/{year}/stats/{year}-La-Liga-Stats\"\n",
    "    },\n",
    "    {\n",
    "        \"name\": \"Serie A\",\n",
    "        \"url\": \"https://fbref.com/en/comps/11/{year}/stats/{year}-Serie-A-Stats\"\n",
    "    },\n",
    "    {\n",
    "        \"name\": \"Ligue 1\",\n",
    "        \"url\": \"https://fbref.com/en/comps/13/{year}/stats/{year}-Ligue-1-Stats\"\n",
    "    },\n",
    "    {\n",
    "        \"name\": \"Eredivisie\",\n",
    "        \"url\": \"https://fbref.com/en/comps/23/{year}/stats/{year}-Eredivisie-Stats\"\n",
    "    },\n",
    "    {\n",
    "        \"name\": \"Primeira Liga\",\n",
    "        \"url\": \"https://fbref.com/en/comps/32/{year}/stats/{year}-Primeira-Liga-Stats\"\n",
    "    },\n",
    "    {\n",
    "        \"name\": \"Championship\",\n",
    "        \"url\": \"https://fbref.com/en/comps/10/{year}/stats/{year}-EFL-Championship-Stats\"\n",
    "    },\n",
    "    {\n",
    "        \"name\": \"Scottish Premiership\",\n",
    "        \"url\": \"https://fbref.com/en/comps/40/{year}/stats/{year}-Scottish-Premiership-Stats\"\n",
    "    }\n",
    " \n",
    "]\n",
    "\n",
    "leagues = []\n",
    "for year in years:\n",
    "    for league in leagueinfo:\n",
    "        leagues.append({\n",
    "            \"name\": f\"{league['name']} {year}\",\n",
    "            \"url\": league[\"url\"].format(year=year),\n",
    "            \"season\": year.replace(\"-\", \"/\"),\n",
    "        })"
   ]
  },
  {
   "cell_type": "code",
   "execution_count": 9,
   "id": "cd4e864a",
   "metadata": {},
   "outputs": [
    {
     "name": "stdout",
     "output_type": "stream",
     "text": [
      "429 https://fbref.com/en/comps/20/2024-2025/stats/2024-2025-Bundesliga-Stats\n",
      "Table not found for Bundesliga 2024-2025\n",
      "stats_squads_standard_for\n",
      "Failed for Bundesliga 2024-2025 at https://fbref.com/en/comps/20/2024-2025/stats/2024-2025-Bundesliga-Stats\n",
      "429 https://fbref.com/en/comps/9/2024-2025/stats/2024-2025-Premier-League-Stats\n",
      "Table not found for Premier League 2024-2025\n",
      "stats_squads_standard_for\n",
      "Failed for Premier League 2024-2025 at https://fbref.com/en/comps/9/2024-2025/stats/2024-2025-Premier-League-Stats\n",
      "429 https://fbref.com/en/comps/12/2024-2025/stats/2024-2025-La-Liga-Stats\n",
      "Table not found for La Liga 2024-2025\n",
      "stats_squads_standard_for\n",
      "Failed for La Liga 2024-2025 at https://fbref.com/en/comps/12/2024-2025/stats/2024-2025-La-Liga-Stats\n"
     ]
    },
    {
     "ename": "KeyboardInterrupt",
     "evalue": "",
     "output_type": "error",
     "traceback": [
      "\u001b[31m---------------------------------------------------------------------------\u001b[39m",
      "\u001b[31mKeyboardInterrupt\u001b[39m                         Traceback (most recent call last)",
      "\u001b[36mCell\u001b[39m\u001b[36m \u001b[39m\u001b[32mIn[9]\u001b[39m\u001b[32m, line 10\u001b[39m\n\u001b[32m      8\u001b[39m \u001b[38;5;28;01melse\u001b[39;00m:\n\u001b[32m      9\u001b[39m     \u001b[38;5;28mprint\u001b[39m(\u001b[33mf\u001b[39m\u001b[33m\"\u001b[39m\u001b[33mFailed for \u001b[39m\u001b[38;5;132;01m{\u001b[39;00mteam_league[\u001b[33m'\u001b[39m\u001b[33mname\u001b[39m\u001b[33m'\u001b[39m]\u001b[38;5;132;01m}\u001b[39;00m\u001b[33m at \u001b[39m\u001b[38;5;132;01m{\u001b[39;00mteam_league[\u001b[33m'\u001b[39m\u001b[33murl\u001b[39m\u001b[33m'\u001b[39m]\u001b[38;5;132;01m}\u001b[39;00m\u001b[33m\"\u001b[39m)\n\u001b[32m---> \u001b[39m\u001b[32m10\u001b[39m \u001b[43mtime\u001b[49m\u001b[43m.\u001b[49m\u001b[43msleep\u001b[49m\u001b[43m(\u001b[49m\u001b[32;43m5\u001b[39;49m\u001b[43m)\u001b[49m  \n",
      "\u001b[31mKeyboardInterrupt\u001b[39m: "
     ]
    }
   ],
   "source": [
    "team_league_dfs = {}\n",
    "team_combined_list = []\n",
    "for team_league in leagues:\n",
    "    team_df = scrape_player_stats(team_league[\"name\"], team_league[\"url\"], table_id='stats_squads_standard_for')\n",
    "    if team_df is not None:\n",
    "        team_league_dfs[team_league[\"name\"]] = team_df\n",
    "        team_combined_list.append(team_df)\n",
    "    else:\n",
    "        print(f\"Failed for {team_league['name']} at {team_league['url']}\")\n",
    "    time.sleep(5)  "
   ]
  },
  {
   "cell_type": "code",
   "execution_count": null,
   "id": "c5e6bb12",
   "metadata": {},
   "outputs": [
    {
     "ename": "ValueError",
     "evalue": "No objects to concatenate",
     "output_type": "error",
     "traceback": [
      "\u001b[31m---------------------------------------------------------------------------\u001b[39m",
      "\u001b[31mValueError\u001b[39m                                Traceback (most recent call last)",
      "\u001b[36mCell\u001b[39m\u001b[36m \u001b[39m\u001b[32mIn[6]\u001b[39m\u001b[32m, line 1\u001b[39m\n\u001b[32m----> \u001b[39m\u001b[32m1\u001b[39m team_df = \u001b[43mpd\u001b[49m\u001b[43m.\u001b[49m\u001b[43mconcat\u001b[49m\u001b[43m(\u001b[49m\u001b[43mteam_league_dfs\u001b[49m\u001b[43m,\u001b[49m\u001b[43mignore_index\u001b[49m\u001b[43m=\u001b[49m\u001b[38;5;28;43;01mTrue\u001b[39;49;00m\u001b[43m)\u001b[49m\n\u001b[32m      2\u001b[39m team_df\n",
      "\u001b[36mFile \u001b[39m\u001b[32mc:\\Users\\JMerilien\\AppData\\Local\\Programs\\Python\\Python313\\Lib\\site-packages\\pandas\\core\\reshape\\concat.py:382\u001b[39m, in \u001b[36mconcat\u001b[39m\u001b[34m(objs, axis, join, ignore_index, keys, levels, names, verify_integrity, sort, copy)\u001b[39m\n\u001b[32m    379\u001b[39m \u001b[38;5;28;01melif\u001b[39;00m copy \u001b[38;5;129;01mand\u001b[39;00m using_copy_on_write():\n\u001b[32m    380\u001b[39m     copy = \u001b[38;5;28;01mFalse\u001b[39;00m\n\u001b[32m--> \u001b[39m\u001b[32m382\u001b[39m op = \u001b[43m_Concatenator\u001b[49m\u001b[43m(\u001b[49m\n\u001b[32m    383\u001b[39m \u001b[43m    \u001b[49m\u001b[43mobjs\u001b[49m\u001b[43m,\u001b[49m\n\u001b[32m    384\u001b[39m \u001b[43m    \u001b[49m\u001b[43maxis\u001b[49m\u001b[43m=\u001b[49m\u001b[43maxis\u001b[49m\u001b[43m,\u001b[49m\n\u001b[32m    385\u001b[39m \u001b[43m    \u001b[49m\u001b[43mignore_index\u001b[49m\u001b[43m=\u001b[49m\u001b[43mignore_index\u001b[49m\u001b[43m,\u001b[49m\n\u001b[32m    386\u001b[39m \u001b[43m    \u001b[49m\u001b[43mjoin\u001b[49m\u001b[43m=\u001b[49m\u001b[43mjoin\u001b[49m\u001b[43m,\u001b[49m\n\u001b[32m    387\u001b[39m \u001b[43m    \u001b[49m\u001b[43mkeys\u001b[49m\u001b[43m=\u001b[49m\u001b[43mkeys\u001b[49m\u001b[43m,\u001b[49m\n\u001b[32m    388\u001b[39m \u001b[43m    \u001b[49m\u001b[43mlevels\u001b[49m\u001b[43m=\u001b[49m\u001b[43mlevels\u001b[49m\u001b[43m,\u001b[49m\n\u001b[32m    389\u001b[39m \u001b[43m    \u001b[49m\u001b[43mnames\u001b[49m\u001b[43m=\u001b[49m\u001b[43mnames\u001b[49m\u001b[43m,\u001b[49m\n\u001b[32m    390\u001b[39m \u001b[43m    \u001b[49m\u001b[43mverify_integrity\u001b[49m\u001b[43m=\u001b[49m\u001b[43mverify_integrity\u001b[49m\u001b[43m,\u001b[49m\n\u001b[32m    391\u001b[39m \u001b[43m    \u001b[49m\u001b[43mcopy\u001b[49m\u001b[43m=\u001b[49m\u001b[43mcopy\u001b[49m\u001b[43m,\u001b[49m\n\u001b[32m    392\u001b[39m \u001b[43m    \u001b[49m\u001b[43msort\u001b[49m\u001b[43m=\u001b[49m\u001b[43msort\u001b[49m\u001b[43m,\u001b[49m\n\u001b[32m    393\u001b[39m \u001b[43m\u001b[49m\u001b[43m)\u001b[49m\n\u001b[32m    395\u001b[39m \u001b[38;5;28;01mreturn\u001b[39;00m op.get_result()\n",
      "\u001b[36mFile \u001b[39m\u001b[32mc:\\Users\\JMerilien\\AppData\\Local\\Programs\\Python\\Python313\\Lib\\site-packages\\pandas\\core\\reshape\\concat.py:445\u001b[39m, in \u001b[36m_Concatenator.__init__\u001b[39m\u001b[34m(self, objs, axis, join, keys, levels, names, ignore_index, verify_integrity, copy, sort)\u001b[39m\n\u001b[32m    442\u001b[39m \u001b[38;5;28mself\u001b[39m.verify_integrity = verify_integrity\n\u001b[32m    443\u001b[39m \u001b[38;5;28mself\u001b[39m.copy = copy\n\u001b[32m--> \u001b[39m\u001b[32m445\u001b[39m objs, keys = \u001b[38;5;28;43mself\u001b[39;49m\u001b[43m.\u001b[49m\u001b[43m_clean_keys_and_objs\u001b[49m\u001b[43m(\u001b[49m\u001b[43mobjs\u001b[49m\u001b[43m,\u001b[49m\u001b[43m \u001b[49m\u001b[43mkeys\u001b[49m\u001b[43m)\u001b[49m\n\u001b[32m    447\u001b[39m \u001b[38;5;66;03m# figure out what our result ndim is going to be\u001b[39;00m\n\u001b[32m    448\u001b[39m ndims = \u001b[38;5;28mself\u001b[39m._get_ndims(objs)\n",
      "\u001b[36mFile \u001b[39m\u001b[32mc:\\Users\\JMerilien\\AppData\\Local\\Programs\\Python\\Python313\\Lib\\site-packages\\pandas\\core\\reshape\\concat.py:507\u001b[39m, in \u001b[36m_Concatenator._clean_keys_and_objs\u001b[39m\u001b[34m(self, objs, keys)\u001b[39m\n\u001b[32m    504\u001b[39m     objs_list = \u001b[38;5;28mlist\u001b[39m(objs)\n\u001b[32m    506\u001b[39m \u001b[38;5;28;01mif\u001b[39;00m \u001b[38;5;28mlen\u001b[39m(objs_list) == \u001b[32m0\u001b[39m:\n\u001b[32m--> \u001b[39m\u001b[32m507\u001b[39m     \u001b[38;5;28;01mraise\u001b[39;00m \u001b[38;5;167;01mValueError\u001b[39;00m(\u001b[33m\"\u001b[39m\u001b[33mNo objects to concatenate\u001b[39m\u001b[33m\"\u001b[39m)\n\u001b[32m    509\u001b[39m \u001b[38;5;28;01mif\u001b[39;00m keys \u001b[38;5;129;01mis\u001b[39;00m \u001b[38;5;28;01mNone\u001b[39;00m:\n\u001b[32m    510\u001b[39m     objs_list = \u001b[38;5;28mlist\u001b[39m(com.not_none(*objs_list))\n",
      "\u001b[31mValueError\u001b[39m: No objects to concatenate"
     ]
    }
   ],
   "source": [
    "team_df = pd.concat(team_combined_list,ignore_index=True)\n",
    "team_df"
   ]
  }
 ],
 "metadata": {
  "kernelspec": {
   "display_name": "Python 3",
   "language": "python",
   "name": "python3"
  },
  "language_info": {
   "codemirror_mode": {
    "name": "ipython",
    "version": 3
   },
   "file_extension": ".py",
   "mimetype": "text/x-python",
   "name": "python",
   "nbconvert_exporter": "python",
   "pygments_lexer": "ipython3",
   "version": "3.13.5"
  }
 },
 "nbformat": 4,
 "nbformat_minor": 5
}
