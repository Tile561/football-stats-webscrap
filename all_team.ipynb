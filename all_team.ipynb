{
 "cells": [
  {
   "cell_type": "code",
   "execution_count": null,
   "id": "84311f3b",
   "metadata": {},
   "outputs": [
    {
     "data": {
      "text/plain": [
       "\"\\n    for comment in soup.find_all(string=lambda text: isinstance(text, Comment)):\\n        if 'stats_standard' in comment:\\n            comment_soup = BeautifulSoup(comment, 'html.parser')\\n            table = comment_soup.find('table', id='stats_standard')\\n\""
      ]
     },
     "execution_count": 3,
     "metadata": {},
     "output_type": "execute_result"
    }
   ],
   "source": [
    "from scrape_stats_function import scrape_player_stats\n",
    "import time\n",
    "import pandas as pd\n",
    "pd.set_option('display.max_columns', None)\n",
    "'''\n",
    "    for comment in soup.find_all(string=lambda text: isinstance(text, Comment)):\n",
    "        if 'stats_standard' in comment:\n",
    "            comment_soup = BeautifulSoup(comment, 'html.parser')\n",
    "            table = comment_soup.find('table', id='stats_standard')\n",
    "'''"
   ]
  },
  {
   "cell_type": "code",
   "execution_count": null,
   "id": "bf982576",
   "metadata": {},
   "outputs": [],
   "source": [
    "years = [\"2024-2025\",\"2023-2024\",\"2022-2023\",\"2021-2022\",\"2020-2021\",\"2019-2020\",\"2018-2019\",\"2017-2018\",\"2016-2017\",\"2015-2016\"]\n",
    "leagueinfo = [\n",
    "    {\n",
    "        \"name\": \"Bundesliga\",\n",
    "        \"url\": \"https://fbref.com/en/comps/20/{year}/stats/{year}-Bundesliga-Stats\"\n",
    "    },\n",
    "    {\n",
    "        \"name\": \"Premier League\",\n",
    "        \"url\": \"https://fbref.com/en/comps/9/{year}/stats/{year}-Premier-League-Stats\"\n",
    "    },\n",
    "    {\n",
    "        \"name\": \"La Liga\",\n",
    "        \"url\": \"https://fbref.com/en/comps/12/{year}/stats/{year}-La-Liga-Stats\"\n",
    "    },\n",
    "    {\n",
    "        \"name\": \"Serie A\",\n",
    "        \"url\": \"https://fbref.com/en/comps/11/{year}/stats/{year}-Serie-A-Stats\"\n",
    "    },\n",
    "    {\n",
    "        \"name\": \"Ligue 1\",\n",
    "        \"url\": \"https://fbref.com/en/comps/13/{year}/stats/{year}-Ligue-1-Stats\"\n",
    "    },\n",
    "    {\n",
    "        \"name\": \"Eredivisie\",\n",
    "        \"url\": \"https://fbref.com/en/comps/23/{year}/stats/{year}-Eredivisie-Stats\"\n",
    "    },\n",
    "    {\n",
    "        \"name\": \"Primeira Liga\",\n",
    "        \"url\": \"https://fbref.com/en/comps/32/{year}/stats/{year}-Primeira-Liga-Stats\"\n",
    "    },\n",
    "    {\n",
    "        \"name\": \"Championship\",\n",
    "        \"url\": \"https://fbref.com/en/comps/10/{year}/stats/{year}-EFL-Championship-Stats\"\n",
    "    },\n",
    "    {\n",
    "        \"name\": \"Scottish Premiership\",\n",
    "        \"url\": \"https://fbref.com/en/comps/40/{year}/stats/{year}-Scottish-Premiership-Stats\"\n",
    "    }\n",
    " \n",
    "]\n",
    "\n",
    "leagues = []\n",
    "for year in years:\n",
    "    for league in leagueinfo:\n",
    "        leagues.append({\n",
    "            \"name\": f\"{league['name']} {year}\",\n",
    "            \"url\": league[\"url\"].format(year=year),\n",
    "        })"
   ]
  },
  {
   "cell_type": "code",
   "execution_count": 5,
   "id": "cd4e864a",
   "metadata": {},
   "outputs": [
    {
     "name": "stdout",
     "output_type": "stream",
     "text": [
      "200 https://fbref.com/en/comps/20/2024-2025/stats/2024-2025-Bundesliga-Stats\n",
      "200 https://fbref.com/en/comps/9/2024-2025/stats/2024-2025-Premier-League-Stats\n",
      "200 https://fbref.com/en/comps/12/2024-2025/stats/2024-2025-La-Liga-Stats\n",
      "200 https://fbref.com/en/comps/11/2024-2025/stats/2024-2025-Serie-A-Stats\n",
      "200 https://fbref.com/en/comps/13/2024-2025/stats/2024-2025-Ligue-1-Stats\n",
      "200 https://fbref.com/en/comps/23/2024-2025/stats/2024-2025-Eredivisie-Stats\n",
      "200 https://fbref.com/en/comps/32/2024-2025/stats/2024-2025-Primeira-Liga-Stats\n",
      "200 https://fbref.com/en/comps/10/2024-2025/stats/2024-2025-EFL-Championship-Stats\n",
      "200 https://fbref.com/en/comps/40/2024-2025/stats/2024-2025-Scottish-Premiership-Stats\n",
      "200 https://fbref.com/en/comps/20/2023-2024/stats/2023-2024-Bundesliga-Stats\n"
     ]
    },
    {
     "ename": "KeyboardInterrupt",
     "evalue": "",
     "output_type": "error",
     "traceback": [
      "\u001b[31m---------------------------------------------------------------------------\u001b[39m",
      "\u001b[31mKeyboardInterrupt\u001b[39m                         Traceback (most recent call last)",
      "\u001b[36mCell\u001b[39m\u001b[36m \u001b[39m\u001b[32mIn[5]\u001b[39m\u001b[32m, line 10\u001b[39m\n\u001b[32m      8\u001b[39m \u001b[38;5;28;01melse\u001b[39;00m:\n\u001b[32m      9\u001b[39m     \u001b[38;5;28mprint\u001b[39m(\u001b[33mf\u001b[39m\u001b[33m\"\u001b[39m\u001b[33mFailed for \u001b[39m\u001b[38;5;132;01m{\u001b[39;00mteam_league[\u001b[33m'\u001b[39m\u001b[33mname\u001b[39m\u001b[33m'\u001b[39m]\u001b[38;5;132;01m}\u001b[39;00m\u001b[33m at \u001b[39m\u001b[38;5;132;01m{\u001b[39;00mteam_league[\u001b[33m'\u001b[39m\u001b[33murl\u001b[39m\u001b[33m'\u001b[39m]\u001b[38;5;132;01m}\u001b[39;00m\u001b[33m\"\u001b[39m)\n\u001b[32m---> \u001b[39m\u001b[32m10\u001b[39m \u001b[43mtime\u001b[49m\u001b[43m.\u001b[49m\u001b[43msleep\u001b[49m\u001b[43m(\u001b[49m\u001b[32;43m5\u001b[39;49m\u001b[43m)\u001b[49m  \n",
      "\u001b[31mKeyboardInterrupt\u001b[39m: "
     ]
    }
   ],
   "source": [
    "team_league_dfs = {}\n",
    "team_combined_list = []\n",
    "for team_league in leagues:\n",
    "    team_df = scrape_player_stats(team_league[\"name\"], team_league[\"url\"], table_id='stats_squads_standard_for')\n",
    "    if team_df is not None:\n",
    "        team_league_dfs[team_league[\"name\"]] = team_df\n",
    "        team_combined_list.append(team_df)\n",
    "    else:\n",
    "        print(f\"Failed for {team_league['name']} at {team_league['url']}\")\n",
    "    time.sleep(5)  "
   ]
  },
  {
   "cell_type": "code",
   "execution_count": 23,
   "id": "c5e6bb12",
   "metadata": {},
   "outputs": [],
   "source": [
    "pd.set_option('display.max_columns', None)\n",
    "\n",
    "team_df = pd.concat(team_combined_list,ignore_index=True)\n"
   ]
  },
  {
   "cell_type": "code",
   "execution_count": 24,
   "id": "5daec486",
   "metadata": {},
   "outputs": [],
   "source": [
    "team_df = team_df.drop(['Season'], axis=1)"
   ]
  },
  {
   "cell_type": "code",
   "execution_count": 27,
   "id": "556e1967",
   "metadata": {},
   "outputs": [
    {
     "data": {
      "text/plain": [
       "Squad         string[python]\n",
       "# Pl                   Int64\n",
       "Age                  float64\n",
       "Poss                 float64\n",
       "MP                     Int64\n",
       "Starts                 Int64\n",
       "Min                    Int64\n",
       "90s                  float64\n",
       "Gls                    Int64\n",
       "Ast                    Int64\n",
       "G+A                    Int64\n",
       "G-PK                   Int64\n",
       "PK                     Int64\n",
       "PKatt                  Int64\n",
       "CrdY                   Int64\n",
       "CrdR                   Int64\n",
       "xG                   float64\n",
       "npxG                 float64\n",
       "xAG                  float64\n",
       "npxG+xAG             float64\n",
       "PrgC                 float64\n",
       "PrgP                 float64\n",
       "Gls.1                float64\n",
       "Ast.1                float64\n",
       "G+A.1                float64\n",
       "G-PK.1               float64\n",
       "G+A-PK               float64\n",
       "xG.1                 float64\n",
       "xAG.1                float64\n",
       "xG+xAG               float64\n",
       "npxG.1               float64\n",
       "npxG+xAG.1           float64\n",
       "League        string[python]\n",
       "dtype: object"
      ]
     },
     "execution_count": 27,
     "metadata": {},
     "output_type": "execute_result"
    }
   ],
   "source": [
    "int64_col = ['# Pl','MP','Starts','Min','Gls','Ast','G+A','G-PK','PK','PKatt','CrdY','CrdR']\n",
    "float64_col = ['Age','Poss','90s','xG','npxG','xAG','npxG+xAG','PrgC','PrgP','Gls.1','Ast.1','G+A.1','G-PK.1','G+A-PK','xG.1','xAG.1','xG+xAG','npxG.1','npxG+xAG.1']\n",
    "\n",
    "for col in int64_col:\n",
    "    team_df[col] = pd.to_numeric(team_df[col],errors='coerce').astype('Int64')\n",
    "for col in float64_col:\n",
    "    team_df[col] = pd.to_numeric(team_df[col], errors='coerce')\n",
    "\n",
    "\n",
    "team_df = team_df.astype(\n",
    "    {\n",
    "        'Squad':'string',\n",
    "        'League': 'string'\n",
    "    }\n",
    ")\n",
    "\n",
    "team_df.dtypes"
   ]
  },
  {
   "cell_type": "code",
   "execution_count": 31,
   "id": "f86cc190",
   "metadata": {},
   "outputs": [
    {
     "data": {
      "text/plain": [
       "Squad                                 Celtic\n",
       "# Pl                                      32\n",
       "Age                                     27.0\n",
       "Poss                                    74.5\n",
       "MP                                        38\n",
       "Starts                                   418\n",
       "Min                                     3420\n",
       "90s                                     38.0\n",
       "Gls                                      110\n",
       "Ast                                       84\n",
       "G+A                                      194\n",
       "G-PK                                     102\n",
       "PK                                         8\n",
       "PKatt                                      8\n",
       "CrdY                                      33\n",
       "CrdR                                       0\n",
       "xG                                       NaN\n",
       "npxG                                     NaN\n",
       "xAG                                      NaN\n",
       "npxG+xAG                                 NaN\n",
       "PrgC                                     NaN\n",
       "PrgP                                     NaN\n",
       "Gls.1                                   2.89\n",
       "Ast.1                                   2.21\n",
       "G+A.1                                   5.11\n",
       "G-PK.1                                  2.68\n",
       "G+A-PK                                  4.89\n",
       "xG.1                                     NaN\n",
       "xAG.1                                    NaN\n",
       "xG+xAG                                   NaN\n",
       "npxG.1                                   NaN\n",
       "npxG+xAG.1                               NaN\n",
       "League        Scottish Premiership 2024-2025\n",
       "Name: 157, dtype: object"
      ]
     },
     "execution_count": 31,
     "metadata": {},
     "output_type": "execute_result"
    }
   ],
   "source": [
    "team_df.loc[team_df['G+A'].idxmax()]"
   ]
  }
 ],
 "metadata": {
  "kernelspec": {
   "display_name": "Python 3",
   "language": "python",
   "name": "python3"
  },
  "language_info": {
   "codemirror_mode": {
    "name": "ipython",
    "version": 3
   },
   "file_extension": ".py",
   "mimetype": "text/x-python",
   "name": "python",
   "nbconvert_exporter": "python",
   "pygments_lexer": "ipython3",
   "version": "3.13.5"
  }
 },
 "nbformat": 4,
 "nbformat_minor": 5
}
