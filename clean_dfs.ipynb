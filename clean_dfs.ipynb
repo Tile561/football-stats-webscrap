{
 "cells": [
  {
   "cell_type": "code",
   "execution_count": null,
   "id": "30e95d87",
   "metadata": {},
   "outputs": [
    {
     "name": "stderr",
     "output_type": "stream",
     "text": [
      "C:\\Users\\james\\AppData\\Local\\Temp\\ipykernel_2108\\3189322282.py:45: DtypeWarning: Columns (23,24,30) have mixed types. Specify dtype option on import or set low_memory=False.\n",
      "  df = pd.read_csv(path)\n",
      "C:\\Users\\james\\AppData\\Local\\Temp\\ipykernel_2108\\3189322282.py:45: DtypeWarning: Columns (23,29) have mixed types. Specify dtype option on import or set low_memory=False.\n",
      "  df = pd.read_csv(path)\n"
     ]
    }
   ],
   "source": [
    "import pandas as pd\n",
    "import os\n",
    "\n",
    "folder = \"csv_exports\"\n",
    "dropped_folder = \"dropped_csvs\"\n",
    "os.makedirs(dropped_folder, exist_ok=True)\n",
    "\n",
    "adv_stats_files = [\n",
    "    'player_defense_df',\n",
    "    'player_gca_df',\n",
    "    'player_keepersadv_df',\n",
    "    'player_passing_df',\n",
    "    'player_passing_type_df',\n",
    "    'player_possession_df',\n",
    "    'team_defense_df',\n",
    "    'team_defense_against_df',\n",
    "    'team_gca_df',\n",
    "    'team_gca_against_df',\n",
    "    'team_keepersadv_df',\n",
    "    'team_passing_df',\n",
    "    'team_passing_against_df',\n",
    "    'team_passing_type_df',\n",
    "    'team_passing_type_against_df',\n",
    "    'team_possession_df',\n",
    "    'team_possession_against_df'\n",
    "]\n",
    "\n",
    "drop_rules = {\n",
    "    'eredivisie': list(range(2010, 2018)),\n",
    "    'championship': list(range(2010, 2018)),\n",
    "    'primeira liga': list(range(2010, 2018)),\n",
    "    'bundesliga': list(range(2010, 2017)),\n",
    "    'premier league': list(range(2010, 2017)),\n",
    "    'la liga': list(range(2010, 2017)),\n",
    "    'serie a': list(range(2010, 2017)),\n",
    "    'ligue 1': list(range(2010, 2017)),\n",
    "    'scottish premiership': list(range(2010, 2026))\n",
    "}\n",
    "\n",
    "for file_name in adv_stats_files:\n",
    "    path = os.path.join(folder, f\"{file_name}.csv\")\n",
    "    if not os.path.exists(path):\n",
    "        continue\n",
    "    \n",
    "    df = pd.read_csv(path)\n",
    "    if 'League' not in df.columns:\n",
    "        continue\n",
    "\n",
    "    df[['league_name', 'season']] = df['League'].str.rsplit(' ', n=1, expand=True)\n",
    "    df['league_name'] = df['league_name'].str.strip().str.lower()\n",
    "    df['season_start'] = pd.to_numeric(df['season'].str[:4], errors='coerce')\n",
    "    df = df.dropna(subset=['season_start'])\n",
    "    df['season_start'] = df['season_start'].astype(int)\n",
    "\n",
    "    mask = (df['league_name'].isin(drop_rules.keys())) & \\\n",
    "           df.apply(lambda row: row['season_start'] in drop_rules[row['league_name']], axis=1)\n",
    "    df_cleaned = df[~mask]\n",
    "\n",
    "    df_cleaned.to_csv(os.path.join(dropped_folder, f\"{file_name}_cleaned.csv\"), index=False)\n"
   ]
  }
 ],
 "metadata": {
  "kernelspec": {
   "display_name": "base",
   "language": "python",
   "name": "python3"
  },
  "language_info": {
   "codemirror_mode": {
    "name": "ipython",
    "version": 3
   },
   "file_extension": ".py",
   "mimetype": "text/x-python",
   "name": "python",
   "nbconvert_exporter": "python",
   "pygments_lexer": "ipython3",
   "version": "3.10.9"
  }
 },
 "nbformat": 4,
 "nbformat_minor": 5
}
