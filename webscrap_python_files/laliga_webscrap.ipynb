{
 "cells": [
  {
   "cell_type": "code",
   "execution_count": 2,
   "id": "f4acfd6b",
   "metadata": {},
   "outputs": [],
   "source": [
    "from bs4 import BeautifulSoup as bs, Comment\n",
    "import requests\n",
    "import pandas as pd\n",
    "pd.set_option('display.max_columns', None)\n",
    "\n"
   ]
  },
  {
   "cell_type": "code",
   "execution_count": 3,
   "id": "0dc818cf",
   "metadata": {},
   "outputs": [],
   "source": [
    "url = \"https://fbref.com/en/comps/12/stats/La-Liga-Stats\"\n",
    "headers = {'User-Agent': 'Mozilla/5.0'} \n",
    "response = requests.get(url, headers=headers)"
   ]
  },
  {
   "cell_type": "code",
   "execution_count": 4,
   "id": "96a089f4",
   "metadata": {},
   "outputs": [
    {
     "name": "stdout",
     "output_type": "stream",
     "text": [
      "200\n"
     ]
    }
   ],
   "source": [
    "soup = bs(response.text)\n",
    "type(soup)\n",
    "soup.find('title').text\n",
    "print(response.status_code)\n",
    "\n"
   ]
  },
  {
   "cell_type": "code",
   "execution_count": 5,
   "id": "369e5da7",
   "metadata": {},
   "outputs": [],
   "source": [
    "#extracting the headers\n",
    "laliga_table = soup.find('table', id=\"stats_squads_standard_for\")\n",
    "laliga_thead = laliga_table.find('thead')\n",
    "\n",
    "laliga_header = laliga_thead.find_all('th')\n",
    "#print(header)\n",
    "columns = [ele.text.strip() for ele in laliga_header]\n",
    "#print(columns)\n",
    "\n",
    "\n",
    "#creating subheaders and headers\n",
    "n = 6 \n",
    "over_header = columns[:n]\n",
    "under_header = columns[n:]\n",
    "over_header_replaced = over_header[0]=\"Empty\"\n",
    "\n",
    "#structure of the subheader and header\n",
    "structure = {\n",
    "    'Empty': 4,\n",
    "    'Playing Time': 4,\n",
    "    'Performance': 8,\n",
    "    'Expected': 4,\n",
    "    'Progression': 2,\n",
    "    'Per 90 Minutes': 10\n",
    "}\n",
    "\n",
    "over_headers =[]\n",
    "for key, count in structure.items():\n",
    "    over_headers.extend([key]*count)\n",
    "\n",
    "#creating the subheader and header\n",
    "multi_index = pd.MultiIndex.from_arrays([over_headers, under_header])\n",
    "\n",
    "\n",
    "\n",
    "\n"
   ]
  },
  {
   "cell_type": "code",
   "execution_count": 6,
   "id": "3eeb585d",
   "metadata": {},
   "outputs": [],
   "source": [
    "# extracting the rows\n",
    "laliga_tbody = laliga_table.find('tbody')\n",
    "\n",
    "\n",
    "rows = laliga_tbody.find_all('tr')\n",
    "d=[]\n",
    "for row in rows:\n",
    "    columns = row.find_all(['td', 'th'])\n",
    "    row = [ele.text.strip() for ele in columns]\n",
    "    d.append((row))\n",
    "    \n",
    "\n",
    "laliga_squad_df = pd.DataFrame(d, columns=multi_index)\n",
    "\n",
    "    "
   ]
  },
  {
   "cell_type": "code",
   "execution_count": 7,
   "id": "6fabeb6d",
   "metadata": {},
   "outputs": [
    {
     "name": "stdout",
     "output_type": "stream",
     "text": [
      "None\n"
     ]
    }
   ],
   "source": [
    "laliga_table_player = soup.find('table', id=\"stats_standard\")\n",
    "print(laliga_table_player)\n",
    "laliga_table = soup.find('table', id=\"stats_squads_standard_for\")\n",
    "laliga_thead = laliga_table.find('thead')\n",
    "\n",
    "\n"
   ]
  },
  {
   "cell_type": "code",
   "execution_count": 8,
   "id": "8508c475",
   "metadata": {},
   "outputs": [
    {
     "name": "stdout",
     "output_type": "stream",
     "text": [
      "MultiIndex([(         'Empty',       'Rk'),\n",
      "            (         'Empty',   'Player'),\n",
      "            (         'Empty',   'Nation'),\n",
      "            (         'Empty',      'Pos'),\n",
      "            (         'Empty',    'Squad'),\n",
      "            (         'Empty',      'Age'),\n",
      "            (         'Empty',     'Born'),\n",
      "            (  'Playing Time',       'MP'),\n",
      "            (  'Playing Time',   'Starts'),\n",
      "            (  'Playing Time',      'Min'),\n",
      "            (  'Playing Time',      '90s'),\n",
      "            (   'Performance',      'Gls'),\n",
      "            (   'Performance',      'Ast'),\n",
      "            (   'Performance',      'G+A'),\n",
      "            (   'Performance',     'G-PK'),\n",
      "            (   'Performance',       'PK'),\n",
      "            (   'Performance',    'PKatt'),\n",
      "            (   'Performance',     'CrdY'),\n",
      "            (   'Performance',     'CrdR'),\n",
      "            (      'Expected',       'xG'),\n",
      "            (      'Expected',     'npxG'),\n",
      "            (      'Expected',      'xAG'),\n",
      "            (      'Expected', 'npxG+xAG'),\n",
      "            (   'Progression',     'PrgC'),\n",
      "            (   'Progression',     'PrgP'),\n",
      "            (   'Progression',     'PrgR'),\n",
      "            ('Per 90 Minutes',      'Gls'),\n",
      "            ('Per 90 Minutes',      'Ast'),\n",
      "            ('Per 90 Minutes',      'G+A'),\n",
      "            ('Per 90 Minutes',     'G-PK'),\n",
      "            ('Per 90 Minutes',   'G+A-PK'),\n",
      "            ('Per 90 Minutes',       'xG'),\n",
      "            ('Per 90 Minutes',      'xAG'),\n",
      "            ('Per 90 Minutes',   'xG+xAG'),\n",
      "            ('Per 90 Minutes',     'npxG'),\n",
      "            ('Per 90 Minutes', 'npxG+xAG'),\n",
      "            (       'Matches',  'Matches')],\n",
      "           )\n"
     ]
    }
   ],
   "source": [
    "# Look through all comments to find the table\n",
    "for comment in soup.find_all(string=lambda text: isinstance(text, Comment)):\n",
    "    if 'stats_standard' in comment:\n",
    "        comment_soup = bs(comment, 'html.parser')\n",
    "        laliga_table_player = comment_soup.find('table', id='stats_standard')\n",
    "\n",
    "laliga_thead_player = laliga_table_player.find('thead')\n",
    "laliga_header_player = laliga_thead_player.find_all('th')\n",
    "columns2 = [ele.text.strip() for ele in laliga_header_player]\n",
    "#print(columns)\n",
    "\n",
    "n = 7\n",
    "\n",
    "over_header2 = columns2[:n]\n",
    "under_header2 = columns2[n:]\n",
    "over_header_replaced2 = over_header2[0]=\"Empty\"\n",
    "over_header_replaced_end = over_header2[6]=\"Matches\"\n",
    "\n",
    "#structure of the subheader and header\n",
    "structure2 = {\n",
    "    'Empty': 7,\n",
    "    'Playing Time': 4,\n",
    "    'Performance': 8,\n",
    "    'Expected': 4,\n",
    "    'Progression': 3,\n",
    "    'Per 90 Minutes': 10,\n",
    "    'Matches': 1\n",
    "}\n",
    "\n",
    "over_headers2 =[]\n",
    "for key, count in structure2.items():\n",
    "    over_headers2.extend([key]*count)\n",
    "\n",
    "#creating the subheader and header\n",
    "multi_index2 = pd.MultiIndex.from_arrays([over_headers2, under_header2])\n",
    "\n",
    "print(multi_index2)"
   ]
  },
  {
   "cell_type": "code",
   "execution_count": 9,
   "id": "3ba59f9a",
   "metadata": {},
   "outputs": [],
   "source": [
    "laliga_tbody_player = laliga_table_player.find('tbody')\n",
    "\n",
    "rows2 = laliga_tbody_player.find_all('tr')\n",
    "f=[]\n",
    "for row in rows2:\n",
    "    columns = row.find_all(['td','th'])\n",
    "    row = [ele.text.strip() for ele in columns]\n",
    "    f.append((row))\n",
    "\n",
    "laliga_players_df = pd.DataFrame(f, columns=multi_index2)"
   ]
  },
  {
   "cell_type": "code",
   "execution_count": 10,
   "id": "9d2d72ff",
   "metadata": {},
   "outputs": [],
   "source": [
    "laliga_players_df['League'] = \"La Liga\"\n",
    "laliga_players_df['Season'] = \"2024/25\"\n",
    "laliga_players_df.to_csv('../csv_files/laliga_players_2024_25.csv', index=False)"
   ]
  }
 ],
 "metadata": {
  "kernelspec": {
   "display_name": "base",
   "language": "python",
   "name": "python3"
  },
  "language_info": {
   "codemirror_mode": {
    "name": "ipython",
    "version": 3
   },
   "file_extension": ".py",
   "mimetype": "text/x-python",
   "name": "python",
   "nbconvert_exporter": "python",
   "pygments_lexer": "ipython3",
   "version": "3.10.9"
  }
 },
 "nbformat": 4,
 "nbformat_minor": 5
}
