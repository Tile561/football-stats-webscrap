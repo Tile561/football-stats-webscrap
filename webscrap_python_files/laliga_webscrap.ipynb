{
 "cells": [
  {
   "cell_type": "code",
   "execution_count": 28,
   "id": "f4acfd6b",
   "metadata": {},
   "outputs": [],
   "source": [
    "from bs4 import BeautifulSoup as bs, Comment\n",
    "import requests\n",
    "import pandas as pd\n",
    "pd.set_option('display.max_columns', None)\n",
    "\n"
   ]
  },
  {
   "cell_type": "code",
   "execution_count": 29,
   "id": "0dc818cf",
   "metadata": {},
   "outputs": [],
   "source": [
    "url = \"https://fbref.com/en/comps/12/stats/La-Liga-Stats\"\n",
    "headers = {'User-Agent': 'Mozilla/5.0'} \n",
    "response = requests.get(url, headers=headers)"
   ]
  },
  {
   "cell_type": "code",
   "execution_count": 30,
   "id": "96a089f4",
   "metadata": {},
   "outputs": [
    {
     "name": "stdout",
     "output_type": "stream",
     "text": [
      "200\n"
     ]
    }
   ],
   "source": [
    "soup = bs(response.text)\n",
    "type(soup)\n",
    "soup.find('title').text\n",
    "print(response.status_code)\n",
    "\n"
   ]
  },
  {
   "cell_type": "code",
   "execution_count": 31,
   "id": "369e5da7",
   "metadata": {},
   "outputs": [],
   "source": [
    "#extracting the headers\n",
    "laliga_table = soup.find('table', id=\"stats_squads_standard_for\")\n",
    "laliga_thead = laliga_table.find('thead')\n",
    "\n",
    "laliga_header = laliga_thead.find_all('th')\n",
    "#print(header)\n",
    "columns = [ele.text.strip() for ele in laliga_header]\n",
    "#print(columns)\n",
    "\n",
    "\n",
    "#creating subheaders\n",
    "n = 6\n",
    "sub_header = columns[n:]"
   ]
  },
  {
   "cell_type": "code",
   "execution_count": 32,
   "id": "3eeb585d",
   "metadata": {},
   "outputs": [],
   "source": [
    "# extracting the rows\n",
    "laliga_tbody = laliga_table.find('tbody')\n",
    "\n",
    "\n",
    "rows = laliga_tbody.find_all('tr')\n",
    "d=[]\n",
    "for row in rows:\n",
    "    columns = row.find_all(['td', 'th'])\n",
    "    row = [ele.text.strip() for ele in columns]\n",
    "    d.append((row))\n",
    "    \n",
    "\n",
    "laliga_squad_df = pd.DataFrame(d, columns=sub_header)\n",
    "\n",
    "    "
   ]
  },
  {
   "cell_type": "code",
   "execution_count": 33,
   "id": "6fabeb6d",
   "metadata": {},
   "outputs": [
    {
     "name": "stdout",
     "output_type": "stream",
     "text": [
      "None\n"
     ]
    }
   ],
   "source": [
    "laliga_table_player = soup.find('table', id=\"stats_standard\")\n",
    "print(laliga_table_player)\n",
    "laliga_table = soup.find('table', id=\"stats_squads_standard_for\")\n",
    "laliga_thead = laliga_table.find('thead')\n",
    "\n",
    "\n"
   ]
  },
  {
   "cell_type": "code",
   "execution_count": 34,
   "id": "8508c475",
   "metadata": {},
   "outputs": [],
   "source": [
    "# Look through all comments to find the table\n",
    "for comment in soup.find_all(string=lambda text: isinstance(text, Comment)):\n",
    "    if 'stats_standard' in comment:\n",
    "        comment_soup = bs(comment, 'html.parser')\n",
    "        laliga_table_player = comment_soup.find('table', id='stats_standard')\n",
    "\n",
    "laliga_thead_player = laliga_table_player.find('thead')\n",
    "laliga_header_player = laliga_thead_player.find_all('th')\n",
    "columns2 = [ele.text.strip() for ele in laliga_header_player]\n",
    "#print(columns)\n",
    "\n",
    "n = 7\n",
    "sub_header2 = columns2[n:]\n"
   ]
  },
  {
   "cell_type": "code",
   "execution_count": 35,
   "id": "3ba59f9a",
   "metadata": {},
   "outputs": [],
   "source": [
    "laliga_tbody_player = laliga_table_player.find('tbody')\n",
    "\n",
    "rows2 = laliga_tbody_player.find_all('tr')\n",
    "f=[]\n",
    "for row in rows2:\n",
    "    columns = row.find_all(['td','th'])\n",
    "    row = [ele.text.strip() for ele in columns]\n",
    "    f.append((row))\n",
    "\n",
    "laliga_players_df = pd.DataFrame(f, columns=sub_header2)"
   ]
  },
  {
   "cell_type": "code",
   "execution_count": 36,
   "id": "9d2d72ff",
   "metadata": {},
   "outputs": [],
   "source": [
    "laliga_players_df['League'] = \"laliga\"\n",
    "laliga_players_df['Season'] = \"2024/25\"\n",
    "\n",
    "\n",
    "rows_dropped = laliga_players_df.index[25::25+1]\n",
    "laliga_player_df = laliga_players_df.drop(rows_dropped)\n",
    "laliga_player_df\n",
    "\n",
    "\n",
    "laliga_player_df.to_csv('../csv_files/2024_2025_player_stats/laliga_players_2024_25.csv', index=False)"
   ]
  }
 ],
 "metadata": {
  "kernelspec": {
   "display_name": "base",
   "language": "python",
   "name": "python3"
  },
  "language_info": {
   "codemirror_mode": {
    "name": "ipython",
    "version": 3
   },
   "file_extension": ".py",
   "mimetype": "text/x-python",
   "name": "python",
   "nbconvert_exporter": "python",
   "pygments_lexer": "ipython3",
   "version": "3.10.9"
  }
 },
 "nbformat": 4,
 "nbformat_minor": 5
}
