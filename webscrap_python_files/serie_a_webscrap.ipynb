{
 "cells": [
  {
   "cell_type": "code",
   "execution_count": 28,
   "id": "bee421e5",
   "metadata": {},
   "outputs": [],
   "source": [
    "from bs4 import BeautifulSoup as bs, Comment\n",
    "import requests\n",
    "import pandas as pd\n",
    "pd.set_option('display.max_columns', None)"
   ]
  },
  {
   "cell_type": "code",
   "execution_count": 29,
   "id": "03103f03",
   "metadata": {},
   "outputs": [],
   "source": [
    "\n",
    "url = \"https://fbref.com/en/comps/11/stats/Serie-A-Stats\"\n",
    "headers = {'User-Agent': 'Mozilla/5.0'} \n",
    "response = requests.get(url, headers=headers)"
   ]
  },
  {
   "cell_type": "code",
   "execution_count": 30,
   "id": "eb986baf",
   "metadata": {},
   "outputs": [
    {
     "data": {
      "text/plain": [
       "'Serie A Player Stats | FBref.com'"
      ]
     },
     "execution_count": 30,
     "metadata": {},
     "output_type": "execute_result"
    }
   ],
   "source": [
    "soup = bs(response.text)\n",
    "type(soup)\n",
    "soup.find('title').text"
   ]
  },
  {
   "cell_type": "code",
   "execution_count": 31,
   "id": "ee52f3c9",
   "metadata": {},
   "outputs": [],
   "source": [
    "#extracting the headers\n",
    "seriea_table = soup.find('table', id=\"stats_squads_standard_for\")\n",
    "seriea_thead = seriea_table.find('thead')\n",
    "\n",
    "seriea_header = seriea_thead.find_all('th')\n",
    "#print(header)\n",
    "columns = [ele.text.strip() for ele in seriea_header]\n",
    "#print(columns)\n",
    "\n",
    "\n",
    "#creating subheaders and headers\n",
    "n = 6 \n",
    "sub_header = columns[n:]"
   ]
  },
  {
   "cell_type": "code",
   "execution_count": 32,
   "id": "23d918f9",
   "metadata": {},
   "outputs": [],
   "source": [
    "# extracting the rows\n",
    "seriea_tbody = seriea_table.find('tbody')\n",
    "\n",
    "\n",
    "rows = seriea_tbody.find_all('tr')\n",
    "d=[]\n",
    "for row in rows:\n",
    "    columns = row.find_all(['td', 'th'])\n",
    "    row = [ele.text.strip() for ele in columns]\n",
    "    d.append((row))\n",
    "    \n",
    "\n",
    "seriea_squad_df = pd.DataFrame(d, columns=sub_header)"
   ]
  },
  {
   "cell_type": "code",
   "execution_count": 33,
   "id": "9291cfc3",
   "metadata": {},
   "outputs": [
    {
     "name": "stdout",
     "output_type": "stream",
     "text": [
      "None\n"
     ]
    }
   ],
   "source": [
    "seriea_table_player = soup.find('table', id=\"stats_standard\")\n",
    "print(seriea_table_player)\n",
    "seriea_table = soup.find('table', id=\"stats_squads_standard_for\")\n",
    "seriea_thead = seriea_table.find('thead')"
   ]
  },
  {
   "cell_type": "code",
   "execution_count": 34,
   "id": "cc37b75a",
   "metadata": {},
   "outputs": [],
   "source": [
    "# Look through all comments to find the table\n",
    "for comment in soup.find_all(string=lambda text: isinstance(text, Comment)):\n",
    "    if 'stats_standard' in comment:\n",
    "        comment_soup = bs(comment, 'html.parser')\n",
    "        seriea_table_player = comment_soup.find('table', id='stats_standard')\n",
    "\n",
    "seriea_thead_player = seriea_table_player.find('thead')\n",
    "seriea_header_player = seriea_thead_player.find_all('th')\n",
    "columns2 = [ele.text.strip() for ele in seriea_header_player]\n",
    "#print(columns)\n",
    "\n",
    "n = 7\n",
    "sub_header2 = columns2[n:]"
   ]
  },
  {
   "cell_type": "code",
   "execution_count": 35,
   "id": "9fa06509",
   "metadata": {},
   "outputs": [],
   "source": [
    "\n",
    "seriea_tbody_player = seriea_table_player.find('tbody')\n",
    "\n",
    "rows2 = seriea_tbody_player.find_all('tr')\n",
    "f=[]\n",
    "for row in rows2:\n",
    "    columns = row.find_all(['td','th'])\n",
    "    row = [ele.text.strip() for ele in columns]\n",
    "    f.append((row))\n",
    "\n",
    "seriea_players_df = pd.DataFrame(f, columns=sub_header2)"
   ]
  },
  {
   "cell_type": "code",
   "execution_count": 36,
   "id": "ac215b7f",
   "metadata": {},
   "outputs": [],
   "source": [
    "seriea_players_df['League'] = \"Serie A\"\n",
    "seriea_players_df['Season'] = \"2024/25\"\n",
    "\n",
    "\n",
    "rows_dropped = seriea_players_df.index[25::25+1]\n",
    "seriea_player_df = seriea_players_df.drop(rows_dropped)\n",
    "seriea_player_df\n",
    "\n",
    "\n",
    "seriea_player_df.to_csv('../csv_files/2024_2025_player_stats/serie_a_players_2024_25.csv', index=False)\n"
   ]
  }
 ],
 "metadata": {
  "kernelspec": {
   "display_name": "base",
   "language": "python",
   "name": "python3"
  },
  "language_info": {
   "codemirror_mode": {
    "name": "ipython",
    "version": 3
   },
   "file_extension": ".py",
   "mimetype": "text/x-python",
   "name": "python",
   "nbconvert_exporter": "python",
   "pygments_lexer": "ipython3",
   "version": "3.10.9"
  }
 },
 "nbformat": 4,
 "nbformat_minor": 5
}
