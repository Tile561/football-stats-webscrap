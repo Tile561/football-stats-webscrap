{
 "cells": [
  {
   "cell_type": "code",
   "execution_count": 11,
   "id": "97156e92",
   "metadata": {},
   "outputs": [],
   "source": [
    "import pandas as pd\n",
    "\n",
    "bundesliga_players_df = pd.read_csv('../csv_files/2024_2025_player_stats/bundesliga_players_2024_25.csv')\n",
    "eredivisie_players_df = pd.read_csv('../csv_files/2024_2025_player_stats/eredivisie_players_2024_25.csv')\n",
    "laliga_players_df = pd.read_csv('../csv_files/2024_2025_player_stats/laliga_players_2024_25.csv')\n",
    "ligue1_players_df = pd.read_csv('../csv_files/2024_2025_player_stats/ligue1_players_2024_25.csv')\n",
    "prem_players_df = pd.read_csv('../csv_files/2024_2025_player_stats/premier_league_players_2024_25.csv')\n",
    "primeira_liga_players_df = pd.read_csv('../csv_files/2024_2025_player_stats/primeira_liga_players_2024_25.csv')\n",
    "seriea_players_df = pd.read_csv('../csv_files/2024_2025_player_stats/serie_a_players_2024_25.csv')\n",
    "\n",
    "# Combine all dataframes into one\n",
    "combined_df = pd.concat([\n",
    "    bundesliga_players_df,\n",
    "    eredivisie_players_df,\n",
    "    laliga_players_df,\n",
    "    ligue1_players_df,\n",
    "    prem_players_df,\n",
    "    primeira_liga_players_df,\n",
    "    seriea_players_df\n",
    "], ignore_index=True)\n",
    "\n",
    "\n",
    "combined_df=combined_df.drop('Matches',axis=1)\n",
    "\n",
    "combined_df.to_csv('../csv_files/2024_2025_player_stats/combined_players_2024_25.csv', index=False)\n",
    "\n",
    "     "
   ]
  },
  {
   "cell_type": "code",
   "execution_count": 12,
   "id": "9927fd9b",
   "metadata": {},
   "outputs": [],
   "source": [
    "bundesliga_squads_df = pd.read_csv('../csv_files/2024_2025_team_stats/bundesliga_squads_2024_25.csv')\n",
    "eredivisie_squads_df = pd.read_csv('../csv_files/2024_2025_team_stats/eredivisie_squads_2024_25.csv')\n",
    "laliga_squads_df = pd.read_csv('../csv_files/2024_2025_team_stats/laliga_squads_2024_25.csv')\n",
    "ligue1_squads_df = pd.read_csv('../csv_files/2024_2025_team_stats/ligue1_squads_2024_25.csv')\n",
    "prem_squads_df = pd.read_csv('../csv_files/2024_2025_team_stats/premier_league_squads_2024_25.csv')\n",
    "primeira_liga_squads_df = pd.read_csv('../csv_files/2024_2025_team_stats/primeira_liga_squads_2024_25.csv')\n",
    "seriea_squads_df = pd.read_csv('../csv_files/2024_2025_team_stats/serie_a_squads_2024_25.csv')\n",
    "\n",
    "# Combine all dataframes into one\n",
    "combined_df = pd.concat([\n",
    "    bundesliga_squads_df,\n",
    "    eredivisie_squads_df,\n",
    "    laliga_squads_df,\n",
    "    ligue1_squads_df,\n",
    "    prem_squads_df,\n",
    "    primeira_liga_squads_df,\n",
    "    seriea_squads_df\n",
    "], ignore_index=True)\n",
    "\n",
    "\n",
    "#combined_df=combined_df.drop('Matches',axis=1)\n",
    "\n",
    "combined_df.to_csv('../csv_files/2024_2025_team_stats/combined_squads_2024_25.csv', index=False)"
   ]
  }
 ],
 "metadata": {
  "kernelspec": {
   "display_name": "base",
   "language": "python",
   "name": "python3"
  },
  "language_info": {
   "codemirror_mode": {
    "name": "ipython",
    "version": 3
   },
   "file_extension": ".py",
   "mimetype": "text/x-python",
   "name": "python",
   "nbconvert_exporter": "python",
   "pygments_lexer": "ipython3",
   "version": "3.10.9"
  }
 },
 "nbformat": 4,
 "nbformat_minor": 5
}
