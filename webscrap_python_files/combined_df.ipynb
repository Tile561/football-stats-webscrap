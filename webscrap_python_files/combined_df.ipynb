{
 "cells": [
  {
   "cell_type": "code",
   "execution_count": 8,
   "id": "97156e92",
   "metadata": {},
   "outputs": [],
   "source": [
    "import pandas as pd\n",
    "\n",
    "bundesliga_players_df = pd.read_csv('../csv_files/bundesliga_players_2024_25.csv')\n",
    "eredivisie_players_df = pd.read_csv('../csv_files/eredivisie_players_2024_25.csv')\n",
    "laliga_players_df = pd.read_csv('../csv_files/laliga_players_2024_25.csv')\n",
    "ligue1_players_df = pd.read_csv('../csv_files/ligue1_players_2024_25.csv')\n",
    "prem_players_df = pd.read_csv('../csv_files/premier_league_players_2024_25.csv')\n",
    "primeira_liga_players_df = pd.read_csv('../csv_files/primeira_liga_players_2024_25.csv')\n",
    "seriea_players_df = pd.read_csv('../csv_files/serie_a_players_2024_25.csv')\n",
    "\n",
    "# Combine all dataframes into one\n",
    "combined_df = pd.concat([\n",
    "    bundesliga_players_df,\n",
    "    eredivisie_players_df,\n",
    "    laliga_players_df,\n",
    "    ligue1_players_df,\n",
    "    prem_players_df,\n",
    "    primeira_liga_players_df,\n",
    "    seriea_players_df\n",
    "], ignore_index=True)\n",
    "\n",
    "combined_df.to_csv('../csv_files/combined_players_2024_25.csv', index=False)\n",
    "\n",
    "     "
   ]
  }
 ],
 "metadata": {
  "kernelspec": {
   "display_name": "base",
   "language": "python",
   "name": "python3"
  },
  "language_info": {
   "codemirror_mode": {
    "name": "ipython",
    "version": 3
   },
   "file_extension": ".py",
   "mimetype": "text/x-python",
   "name": "python",
   "nbconvert_exporter": "python",
   "pygments_lexer": "ipython3",
   "version": "3.10.9"
  }
 },
 "nbformat": 4,
 "nbformat_minor": 5
}
