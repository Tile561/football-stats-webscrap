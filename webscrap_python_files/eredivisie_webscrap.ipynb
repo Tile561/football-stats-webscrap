{
 "cells": [
  {
   "cell_type": "code",
   "execution_count": 72,
   "id": "bee421e5",
   "metadata": {},
   "outputs": [],
   "source": [
    "from bs4 import BeautifulSoup as bs, Comment\n",
    "import requests\n",
    "import pandas as pd\n",
    "pd.set_option('display.max_columns', None)"
   ]
  },
  {
   "cell_type": "code",
   "execution_count": 73,
   "id": "03103f03",
   "metadata": {},
   "outputs": [],
   "source": [
    "\n",
    "url = \"https://fbref.com/en/comps/23/stats/Eredivisie-Stats\"\n",
    "headers = {'User-Agent': 'Mozilla/5.0'} \n",
    "response = requests.get(url, headers=headers)"
   ]
  },
  {
   "cell_type": "code",
   "execution_count": 74,
   "id": "eb986baf",
   "metadata": {},
   "outputs": [
    {
     "data": {
      "text/plain": [
       "'Eredivisie Player Stats | FBref.com'"
      ]
     },
     "execution_count": 74,
     "metadata": {},
     "output_type": "execute_result"
    }
   ],
   "source": [
    "soup = bs(response.text)\n",
    "type(soup)\n",
    "soup.find('title').text"
   ]
  },
  {
   "cell_type": "code",
   "execution_count": 75,
   "id": "ee52f3c9",
   "metadata": {},
   "outputs": [],
   "source": [
    "#extracting the headers\n",
    "eredivisie_table = soup.find('table', id=\"stats_squads_standard_for\")\n",
    "eredivisie_thead = eredivisie_table.find('thead')\n",
    "\n",
    "eredivisie_header = eredivisie_thead.find_all('th')\n",
    "#print(header)\n",
    "columns = [ele.text.strip() for ele in eredivisie_header]\n",
    "#print(columns)\n",
    "\n",
    "\n",
    "#creating subheaders\n",
    "n = 6 \n",
    "sub_header = columns[n:]"
   ]
  },
  {
   "cell_type": "code",
   "execution_count": 76,
   "id": "e37030fd",
   "metadata": {},
   "outputs": [],
   "source": [
    "# extracting the rows\n",
    "eredivisie_tbody = eredivisie_table.find('tbody')\n",
    "\n",
    "\n",
    "rows = eredivisie_tbody.find_all('tr')\n",
    "d=[]\n",
    "for row in rows:\n",
    "    columns = row.find_all(['td', 'th'])\n",
    "    row = [ele.text.strip() for ele in columns]\n",
    "    d.append((row))\n",
    "    \n",
    "\n",
    "eredivisie_squad_df = pd.DataFrame(d, columns=sub_header)"
   ]
  },
  {
   "cell_type": "code",
   "execution_count": 81,
   "id": "3a0ed707",
   "metadata": {},
   "outputs": [],
   "source": [
    "eredivisie_squad_df['League'] = \"Eredivisie\"\n",
    "eredivisie_squad_df['Season'] = \"2024/25\"\n",
    "eredivisie_squad_df.to_csv('../csv_files/2024_2025_team_stats/eredivisie_squads_2024_25.csv', index=False)"
   ]
  },
  {
   "cell_type": "code",
   "execution_count": 77,
   "id": "9291cfc3",
   "metadata": {},
   "outputs": [
    {
     "name": "stdout",
     "output_type": "stream",
     "text": [
      "None\n"
     ]
    }
   ],
   "source": [
    "eredivisie_table_player = soup.find('table', id=\"stats_standard\")\n",
    "print(eredivisie_table_player)\n",
    "eredivisie_table = soup.find('table', id=\"stats_squads_standard_for\")\n",
    "eredivisie_thead = eredivisie_table.find('thead')"
   ]
  },
  {
   "cell_type": "code",
   "execution_count": 78,
   "id": "cc37b75a",
   "metadata": {},
   "outputs": [],
   "source": [
    "# Look through all comments to find the table\n",
    "for comment in soup.find_all(string=lambda text: isinstance(text, Comment)):\n",
    "    if 'stats_standard' in comment:\n",
    "        comment_soup = bs(comment, 'html.parser')\n",
    "        eredivisie_table_player = comment_soup.find('table', id='stats_standard')\n",
    "\n",
    "eredivisie_thead_player = eredivisie_table_player.find('thead')\n",
    "eredivisie_header_player = eredivisie_thead_player.find_all('th')\n",
    "columns2 = [ele.text.strip() for ele in eredivisie_header_player]\n",
    "#print(columns)\n",
    "\n",
    "n = 7\n",
    "sub_header2 = columns2[n:]"
   ]
  },
  {
   "cell_type": "code",
   "execution_count": 79,
   "id": "9fa06509",
   "metadata": {},
   "outputs": [],
   "source": [
    "\n",
    "eredivisie_tbody_player = eredivisie_table_player.find('tbody')\n",
    "\n",
    "rows2 = eredivisie_tbody_player.find_all('tr')\n",
    "f=[]\n",
    "for row in rows2:\n",
    "    columns = row.find_all(['td','th'])\n",
    "    row = [ele.text.strip() for ele in columns]\n",
    "    f.append((row))\n",
    "\n",
    "eredivisie_players_df = pd.DataFrame(f, columns=sub_header2)"
   ]
  },
  {
   "cell_type": "code",
   "execution_count": 80,
   "id": "ac215b7f",
   "metadata": {},
   "outputs": [],
   "source": [
    "eredivisie_players_df['League'] = \"Eredivisie\"\n",
    "eredivisie_players_df['Season'] = \"2024/25\"\n",
    "\n",
    "rows_dropped = eredivisie_players_df.index[25::25+1]\n",
    "eredivisie_player_df = eredivisie_players_df.drop(rows_dropped)\n",
    "eredivisie_player_df\n",
    "\n",
    "\n",
    "eredivisie_player_df.to_csv('../csv_files/2024_2025_player_stats/eredivisie_players_2024_25.csv', index=False)"
   ]
  }
 ],
 "metadata": {
  "kernelspec": {
   "display_name": "base",
   "language": "python",
   "name": "python3"
  },
  "language_info": {
   "codemirror_mode": {
    "name": "ipython",
    "version": 3
   },
   "file_extension": ".py",
   "mimetype": "text/x-python",
   "name": "python",
   "nbconvert_exporter": "python",
   "pygments_lexer": "ipython3",
   "version": "3.10.9"
  }
 },
 "nbformat": 4,
 "nbformat_minor": 5
}
