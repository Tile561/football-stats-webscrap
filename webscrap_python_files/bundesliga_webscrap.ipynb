{
 "cells": [
  {
   "cell_type": "code",
   "execution_count": 75,
   "id": "f4acfd6b",
   "metadata": {},
   "outputs": [],
   "source": [
    "from bs4 import BeautifulSoup as bs, Comment\n",
    "import requests\n",
    "import pandas as pd\n",
    "pd.set_option('display.max_columns', None)\n",
    "\n"
   ]
  },
  {
   "cell_type": "code",
   "execution_count": 76,
   "id": "0dc818cf",
   "metadata": {},
   "outputs": [],
   "source": [
    "url = \"https://fbref.com/en/comps/20/stats/Bundesliga-Stats\"\n",
    "headers = {'User-Agent': 'Mozilla/5.0'} \n",
    "response = requests.get(url, headers=headers)"
   ]
  },
  {
   "cell_type": "code",
   "execution_count": 77,
   "id": "96a089f4",
   "metadata": {},
   "outputs": [
    {
     "name": "stdout",
     "output_type": "stream",
     "text": [
      "200\n"
     ]
    }
   ],
   "source": [
    "soup = bs(response.text)\n",
    "type(soup)\n",
    "soup.find('title').text\n",
    "print(response.status_code)\n",
    "\n"
   ]
  },
  {
   "cell_type": "code",
   "execution_count": 78,
   "id": "369e5da7",
   "metadata": {},
   "outputs": [],
   "source": [
    "#extracting the headers\n",
    "bundesliga_table = soup.find('table', id=\"stats_squads_standard_for\")\n",
    "bundesliga_thead = bundesliga_table.find('thead')\n",
    "\n",
    "bundesliga_header = bundesliga_thead.find_all('th')\n",
    "#print(header)\n",
    "columns = [ele.text.strip() for ele in bundesliga_header]\n",
    "#print(columns)\n",
    "\n",
    "\n",
    "#creating subheaders\n",
    "n = 6 \n",
    "sub_header = columns[n:]"
   ]
  },
  {
   "cell_type": "code",
   "execution_count": 79,
   "id": "3eeb585d",
   "metadata": {},
   "outputs": [],
   "source": [
    "# extracting the rows\n",
    "bundesliga_tbody = bundesliga_table.find('tbody')\n",
    "\n",
    "\n",
    "rows = bundesliga_tbody.find_all('tr')\n",
    "d=[]\n",
    "for row in rows:\n",
    "    columns = row.find_all(['td', 'th'])\n",
    "    row = [ele.text.strip() for ele in columns]\n",
    "    d.append((row))\n",
    "    \n",
    "\n",
    "bundesliga_squad_df = pd.DataFrame(d, columns=sub_header)\n",
    "\n",
    "    "
   ]
  },
  {
   "cell_type": "code",
   "execution_count": 80,
   "id": "6fabeb6d",
   "metadata": {},
   "outputs": [
    {
     "name": "stdout",
     "output_type": "stream",
     "text": [
      "None\n"
     ]
    }
   ],
   "source": [
    "bundesliga_table_player = soup.find('table', id=\"stats_standard\")\n",
    "print(bundesliga_table_player)\n",
    "bundesliga_table = soup.find('table', id=\"stats_squads_standard_for\")\n",
    "bundesliga_thead = bundesliga_table.find('thead')\n",
    "\n",
    "\n"
   ]
  },
  {
   "cell_type": "code",
   "execution_count": 81,
   "id": "8508c475",
   "metadata": {},
   "outputs": [],
   "source": [
    "# Look through all comments to find the table\n",
    "for comment in soup.find_all(string=lambda text: isinstance(text, Comment)):\n",
    "    if 'stats_standard' in comment:\n",
    "        comment_soup = bs(comment, 'html.parser')\n",
    "        bundesliga_table_player = comment_soup.find('table', id='stats_standard')\n",
    "\n",
    "bundesliga_thead_player = bundesliga_table_player.find('thead')\n",
    "bundesliga_header_player = bundesliga_thead_player.find_all('th')\n",
    "columns2 = [ele.text.strip() for ele in bundesliga_header_player]\n",
    "\n",
    "n = 7\n",
    "sub_header2 = columns2[n:]\n"
   ]
  },
  {
   "cell_type": "code",
   "execution_count": 82,
   "id": "3ba59f9a",
   "metadata": {},
   "outputs": [],
   "source": [
    "bundesliga_tbody_player = bundesliga_table_player.find('tbody')\n",
    "\n",
    "rows2 = bundesliga_tbody_player.find_all('tr')\n",
    "f=[]\n",
    "for row in rows2:\n",
    "    columns = row.find_all(['td','th'])\n",
    "    row = [ele.text.strip() for ele in columns]\n",
    "    f.append((row))\n",
    "\n",
    "bundesliga_players_df = pd.DataFrame(f, columns=sub_header2)"
   ]
  },
  {
   "cell_type": "code",
   "execution_count": 83,
   "id": "9d2d72ff",
   "metadata": {},
   "outputs": [],
   "source": [
    "bundesliga_players_df['League'] = \"Bundesliga\"\n",
    "bundesliga_players_df['Season'] = \"2024/25\"\n",
    "\n",
    "\n",
    "rows_dropped = bundesliga_players_df.index[25::25+1]\n",
    "bundesliga_player_df = bundesliga_players_df.drop(rows_dropped)\n",
    "bundesliga_player_df\n",
    "\n",
    "\n",
    "bundesliga_player_df.to_csv('../csv_files/2024_2025_player_stats/bundesliga_players_2024_25.csv', index=False)"
   ]
  }
 ],
 "metadata": {
  "kernelspec": {
   "display_name": "base",
   "language": "python",
   "name": "python3"
  },
  "language_info": {
   "codemirror_mode": {
    "name": "ipython",
    "version": 3
   },
   "file_extension": ".py",
   "mimetype": "text/x-python",
   "name": "python",
   "nbconvert_exporter": "python",
   "pygments_lexer": "ipython3",
   "version": "3.10.9"
  }
 },
 "nbformat": 4,
 "nbformat_minor": 5
}
