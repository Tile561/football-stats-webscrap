{
 "cells": [
  {
   "cell_type": "code",
   "execution_count": null,
   "id": "78941a69",
   "metadata": {},
   "outputs": [],
   "source": [
    "from bs4 import BeautifulSoup as bs\n",
    "import requests\n",
    "import pandas as pd \n"
   ]
  },
  {
   "cell_type": "code",
   "execution_count": 2,
   "id": "eadd8201",
   "metadata": {},
   "outputs": [],
   "source": [
    "url = \"https://fbref.com/en/comps/9/schedule/Premier-League-Scores-and-Fixtures\"\n",
    "headers = {'User-Agent': 'Mozilla/5.0'} \n",
    "response = requests.get(url, headers=headers)"
   ]
  },
  {
   "cell_type": "code",
   "execution_count": 3,
   "id": "0a7dc5b9",
   "metadata": {},
   "outputs": [
    {
     "name": "stdout",
     "output_type": "stream",
     "text": [
      "200\n"
     ]
    }
   ],
   "source": [
    "soup = bs(response.text)\n",
    "type(soup)\n",
    "soup.find('title').text\n",
    "print(response.status_code)"
   ]
  },
  {
   "cell_type": "code",
   "execution_count": 11,
   "id": "f64c26d0",
   "metadata": {},
   "outputs": [
    {
     "name": "stdout",
     "output_type": "stream",
     "text": [
      "['Wk', 'Day', 'Date', 'Time', 'Home', 'xG', 'Score', 'xG', 'Away', 'Attendance', 'Venue', 'Referee', 'Match Report', 'Notes']\n"
     ]
    }
   ],
   "source": [
    "prem_table = soup.find('table', id=\"sched_2024-2025_9_1\")\n",
    "prem_thead = prem_table.find('thead')\n",
    "\n",
    "prem_header = prem_thead.find_all('th')\n",
    "\n",
    "columns = [ele.text.strip() for ele in prem_header]\n",
    "\n",
    "print(columns)"
   ]
  },
  {
   "cell_type": "code",
   "execution_count": 15,
   "id": "88a3bbff",
   "metadata": {},
   "outputs": [
    {
     "data": {
      "text/html": [
       "<div>\n",
       "<style scoped>\n",
       "    .dataframe tbody tr th:only-of-type {\n",
       "        vertical-align: middle;\n",
       "    }\n",
       "\n",
       "    .dataframe tbody tr th {\n",
       "        vertical-align: top;\n",
       "    }\n",
       "\n",
       "    .dataframe thead th {\n",
       "        text-align: right;\n",
       "    }\n",
       "</style>\n",
       "<table border=\"1\" class=\"dataframe\">\n",
       "  <thead>\n",
       "    <tr style=\"text-align: right;\">\n",
       "      <th></th>\n",
       "      <th>Day</th>\n",
       "      <th>Date</th>\n",
       "      <th>Time</th>\n",
       "      <th>Home</th>\n",
       "      <th>xG</th>\n",
       "      <th>Score</th>\n",
       "      <th>xG</th>\n",
       "      <th>Away</th>\n",
       "      <th>Attendance</th>\n",
       "      <th>Venue</th>\n",
       "      <th>Referee</th>\n",
       "      <th>Match Report</th>\n",
       "      <th>Notes</th>\n",
       "    </tr>\n",
       "  </thead>\n",
       "  <tbody>\n",
       "    <tr>\n",
       "      <th>0</th>\n",
       "      <td>Fri</td>\n",
       "      <td>2024-08-16</td>\n",
       "      <td>20:00</td>\n",
       "      <td>Manchester Utd</td>\n",
       "      <td>2.4</td>\n",
       "      <td>1–0</td>\n",
       "      <td>0.4</td>\n",
       "      <td>Fulham</td>\n",
       "      <td>73,297</td>\n",
       "      <td>Old Trafford</td>\n",
       "      <td>Robert Jones</td>\n",
       "      <td>Match Report</td>\n",
       "      <td></td>\n",
       "    </tr>\n",
       "    <tr>\n",
       "      <th>1</th>\n",
       "      <td>Sat</td>\n",
       "      <td>2024-08-17</td>\n",
       "      <td>12:30</td>\n",
       "      <td>Ipswich Town</td>\n",
       "      <td>0.5</td>\n",
       "      <td>0–2</td>\n",
       "      <td>2.6</td>\n",
       "      <td>Liverpool</td>\n",
       "      <td>30,014</td>\n",
       "      <td>Portman Road Stadium</td>\n",
       "      <td>Tim Robinson</td>\n",
       "      <td>Match Report</td>\n",
       "      <td></td>\n",
       "    </tr>\n",
       "    <tr>\n",
       "      <th>2</th>\n",
       "      <td>Sat</td>\n",
       "      <td>2024-08-17</td>\n",
       "      <td>15:00</td>\n",
       "      <td>Newcastle Utd</td>\n",
       "      <td>0.3</td>\n",
       "      <td>1–0</td>\n",
       "      <td>1.8</td>\n",
       "      <td>Southampton</td>\n",
       "      <td>52,196</td>\n",
       "      <td>St James' Park</td>\n",
       "      <td>Craig Pawson</td>\n",
       "      <td>Match Report</td>\n",
       "      <td></td>\n",
       "    </tr>\n",
       "    <tr>\n",
       "      <th>3</th>\n",
       "      <td>Sat</td>\n",
       "      <td>2024-08-17</td>\n",
       "      <td>15:00</td>\n",
       "      <td>Everton</td>\n",
       "      <td>0.5</td>\n",
       "      <td>0–3</td>\n",
       "      <td>1.4</td>\n",
       "      <td>Brighton</td>\n",
       "      <td>39,217</td>\n",
       "      <td>Goodison Park</td>\n",
       "      <td>Simon Hooper</td>\n",
       "      <td>Match Report</td>\n",
       "      <td></td>\n",
       "    </tr>\n",
       "    <tr>\n",
       "      <th>4</th>\n",
       "      <td>Sat</td>\n",
       "      <td>2024-08-17</td>\n",
       "      <td>15:00</td>\n",
       "      <td>Nott'ham Forest</td>\n",
       "      <td>1.3</td>\n",
       "      <td>1–1</td>\n",
       "      <td>1.2</td>\n",
       "      <td>Bournemouth</td>\n",
       "      <td>29,763</td>\n",
       "      <td>The City Ground</td>\n",
       "      <td>Michael Oliver</td>\n",
       "      <td>Match Report</td>\n",
       "      <td></td>\n",
       "    </tr>\n",
       "  </tbody>\n",
       "</table>\n",
       "</div>"
      ],
      "text/plain": [
       "   Day        Date   Time             Home   xG Score   xG         Away  \\\n",
       "0  Fri  2024-08-16  20:00   Manchester Utd  2.4   1–0  0.4       Fulham   \n",
       "1  Sat  2024-08-17  12:30     Ipswich Town  0.5   0–2  2.6    Liverpool   \n",
       "2  Sat  2024-08-17  15:00    Newcastle Utd  0.3   1–0  1.8  Southampton   \n",
       "3  Sat  2024-08-17  15:00          Everton  0.5   0–3  1.4     Brighton   \n",
       "4  Sat  2024-08-17  15:00  Nott'ham Forest  1.3   1–1  1.2  Bournemouth   \n",
       "\n",
       "  Attendance                 Venue         Referee  Match Report Notes  \n",
       "0     73,297          Old Trafford    Robert Jones  Match Report        \n",
       "1     30,014  Portman Road Stadium    Tim Robinson  Match Report        \n",
       "2     52,196        St James' Park    Craig Pawson  Match Report        \n",
       "3     39,217         Goodison Park    Simon Hooper  Match Report        \n",
       "4     29,763       The City Ground  Michael Oliver  Match Report        "
      ]
     },
     "execution_count": 15,
     "metadata": {},
     "output_type": "execute_result"
    }
   ],
   "source": [
    "prem_tbody = prem_table.find('tbody')\n",
    "rows = prem_tbody.find_all('tr')\n",
    "d=[]\n",
    "for row in rows:\n",
    "    cols = row.find_all('td')\n",
    "    cols = [ele.text.strip() for ele in cols]\n",
    "    d.append(cols)\n",
    "\n",
    "prem_df = pd.DataFrame(d, columns=columns[1:])\n",
    "\n",
    "prem_df.head()"
   ]
  }
 ],
 "metadata": {
  "kernelspec": {
   "display_name": "base",
   "language": "python",
   "name": "python3"
  },
  "language_info": {
   "codemirror_mode": {
    "name": "ipython",
    "version": 3
   },
   "file_extension": ".py",
   "mimetype": "text/x-python",
   "name": "python",
   "nbconvert_exporter": "python",
   "pygments_lexer": "ipython3",
   "version": "3.10.9"
  }
 },
 "nbformat": 4,
 "nbformat_minor": 5
}
