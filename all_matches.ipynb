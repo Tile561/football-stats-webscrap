{
 "cells": [
  {
   "cell_type": "code",
   "execution_count": 7,
   "id": "99039a18",
   "metadata": {},
   "outputs": [
    {
     "ename": "ImportError",
     "evalue": "cannot import name 'scrape_league_data' from 'scrape_stats_function' (c:\\Users\\JMerilien\\OneDrive - Lennar Azure AD\\Documents\\side projects\\football-stats-webscrap\\scrape_stats_function.py)",
     "output_type": "error",
     "traceback": [
      "\u001b[31m---------------------------------------------------------------------------\u001b[39m",
      "\u001b[31mImportError\u001b[39m                               Traceback (most recent call last)",
      "\u001b[36mCell\u001b[39m\u001b[36m \u001b[39m\u001b[32mIn[7]\u001b[39m\u001b[32m, line 7\u001b[39m\n\u001b[32m      5\u001b[39m pd.set_option(\u001b[33m'\u001b[39m\u001b[33mdisplay.max_columns\u001b[39m\u001b[33m'\u001b[39m, \u001b[38;5;28;01mNone\u001b[39;00m)\n\u001b[32m      6\u001b[39m \u001b[38;5;28;01mimport\u001b[39;00m\u001b[38;5;250m \u001b[39m\u001b[34;01mwarnings\u001b[39;00m\n\u001b[32m----> \u001b[39m\u001b[32m7\u001b[39m \u001b[38;5;28;01mfrom\u001b[39;00m\u001b[38;5;250m \u001b[39m\u001b[34;01mscrape_stats_function\u001b[39;00m\u001b[38;5;250m \u001b[39m\u001b[38;5;28;01mimport\u001b[39;00m scrape_league_data\n\u001b[32m     11\u001b[39m years = [\u001b[33m\"\u001b[39m\u001b[33m2024-2025\u001b[39m\u001b[33m\"\u001b[39m,\u001b[33m\"\u001b[39m\u001b[33m2023-2024\u001b[39m\u001b[33m\"\u001b[39m,\u001b[33m\"\u001b[39m\u001b[33m2022-2023\u001b[39m\u001b[33m\"\u001b[39m,\u001b[33m\"\u001b[39m\u001b[33m2021-2022\u001b[39m\u001b[33m\"\u001b[39m,\u001b[33m\"\u001b[39m\u001b[33m2020-2021\u001b[39m\u001b[33m\"\u001b[39m,\u001b[33m\"\u001b[39m\u001b[33m2019-2020\u001b[39m\u001b[33m\"\u001b[39m,\u001b[33m\"\u001b[39m\u001b[33m2018-2019\u001b[39m\u001b[33m\"\u001b[39m,\u001b[33m\"\u001b[39m\u001b[33m2017-2018\u001b[39m\u001b[33m\"\u001b[39m,\u001b[33m\"\u001b[39m\u001b[33m2016-2017\u001b[39m\u001b[33m\"\u001b[39m,\u001b[33m\"\u001b[39m\u001b[33m2015-2016\u001b[39m\u001b[33m\"\u001b[39m,\u001b[33m\"\u001b[39m\u001b[33m2014-2015\u001b[39m\u001b[33m\"\u001b[39m,\u001b[33m\"\u001b[39m\u001b[33m2013-2014\u001b[39m\u001b[33m\"\u001b[39m,\u001b[33m\"\u001b[39m\u001b[33m2012-2013\u001b[39m\u001b[33m\"\u001b[39m,\u001b[33m\"\u001b[39m\u001b[33m2011-2012\u001b[39m\u001b[33m\"\u001b[39m,\u001b[33m\"\u001b[39m\u001b[33m2010-2011\u001b[39m\u001b[33m\"\u001b[39m]\n\u001b[32m     12\u001b[39m leagueinfo = [\n\u001b[32m     13\u001b[39m     {\n\u001b[32m     14\u001b[39m         \u001b[33m\"\u001b[39m\u001b[33mname\u001b[39m\u001b[33m\"\u001b[39m: \u001b[33m\"\u001b[39m\u001b[33mBundesliga\u001b[39m\u001b[33m\"\u001b[39m,\n\u001b[32m   (...)\u001b[39m\u001b[32m     48\u001b[39m     }\n\u001b[32m     49\u001b[39m ]\n",
      "\u001b[31mImportError\u001b[39m: cannot import name 'scrape_league_data' from 'scrape_stats_function' (c:\\Users\\JMerilien\\OneDrive - Lennar Azure AD\\Documents\\side projects\\football-stats-webscrap\\scrape_stats_function.py)"
     ]
    }
   ],
   "source": [
    "import requests\n",
    "import pandas as pd\n",
    "from bs4 import BeautifulSoup\n",
    "import time\n",
    "pd.set_option('display.max_columns', None)\n",
    "import warnings\n",
    "from scrape_stats_function import scrape_league_data\n",
    "\n",
    "\n",
    "\n",
    "years = [\"2024-2025\",\"2023-2024\",\"2022-2023\",\"2021-2022\",\"2020-2021\",\"2019-2020\",\"2018-2019\",\"2017-2018\",\"2016-2017\",\"2015-2016\",\"2014-2015\",\"2013-2014\",\"2012-2013\",\"2011-2012\",\"2010-2011\"]\n",
    "leagueinfo = [\n",
    "    {\n",
    "        \"name\": \"Bundesliga\",\n",
    "        \"url\": \"https://fbref.com/en/comps/20/{year}/schedule/{year}-Bundesliga-Scores-and-Fixtures\"\n",
    "    },\n",
    "    {\n",
    "        \"name\": \"Premier League\",\n",
    "        \"url\": \"https://fbref.com/en/comps/9/{year}/schedule/{year}-Premier-League-Scores-and-Fixtures\"\n",
    "    },\n",
    "    {\n",
    "        \"name\": \"Serie A\",\n",
    "        \"url\": \"https://fbref.com/en/comps/11/{year}/schedule/{year}-Serie-A-Scores-and-Fixtures\"\n",
    "    },\n",
    "    {\n",
    "        \"name\": \"La Liga\",\n",
    "        \"url\": \"https://fbref.com/en/comps/12/{year}/schedule/{year}-La-Liga-Scores-and-Fixtures\"\n",
    "    },\n",
    "    {\n",
    "        \"name\": \"Ligue 1\",\n",
    "        \"url\": \"https://fbref.com/en/comps/13/{year}/schedule/{year}-Ligue-1-Scores-and-Fixtures\"\n",
    "    },\n",
    "    {\n",
    "        \"name\": \"Eredivisie\",\n",
    "        \"url\": \"https://fbref.com/en/comps/23/{year}/schedule/{year}-Eredivisie-Scores-and-Fixtures\"\n",
    "    },\n",
    "    {        \"name\": \"Primeira Liga\",\n",
    "        \"url\": \"https://fbref.com/en/comps/32/{year}/schedule/{year}-Primeira-Liga-Scores-and-Fixtures\"\n",
    "    \n",
    "    },\n",
    "    {\n",
    "        \"name\": \"EFL Championship\",\n",
    "        \"url\": \"https://fbref.com/en/comps/10/{year}/schedule/{year}-EFL-Championship-Scores-and-Fixtures\"\n",
    "    },\n",
    "    {\n",
    "        \"name\": \"Scottish Premiership\",\n",
    "        \"url\": \"https://fbref.com/en/comps/40/{year}/schedule/{year}-Scottish-Premiership-Scores-and-Fixtures\"\n",
    "    }\n",
    "]\n",
    "\n",
    "\n",
    "leagues = []\n",
    "for year in years:\n",
    "    for league in leagueinfo:\n",
    "        leagues.append({\n",
    "            \"name\": f\"{league['name']} {year}\",\n",
    "            \"url\": league[\"url\"].format(year=year),\n",
    "        })\n",
    "\n",
    "league_dfs = {}\n",
    "combined_list = []\n",
    "for league in leagues:\n",
    "    df = scrape_league_data(league[\"name\"], league[\"url\"], table_id=None)\n",
    "    if df is not None:\n",
    "        league_dfs[league[\"name\"]] = df\n",
    "        combined_list.append(df)\n",
    "    else:\n",
    "        print(f\"Failed for {league['name']} at {league['url']}\")\n",
    "    time.sleep(5) "
   ]
  },
  {
   "cell_type": "code",
   "execution_count": 4,
   "id": "78db52f7",
   "metadata": {},
   "outputs": [
    {
     "data": {
      "text/plain": [
       "Wk                     Int64\n",
       "Day           string[python]\n",
       "Date          string[python]\n",
       "Time          string[python]\n",
       "Home          string[python]\n",
       "xG                   float64\n",
       "Score         string[python]\n",
       "xG.1                 float64\n",
       "Away          string[python]\n",
       "Attendance             Int64\n",
       "Venue         string[python]\n",
       "Referee       string[python]\n",
       "League        string[python]\n",
       "dtype: object"
      ]
     },
     "execution_count": 4,
     "metadata": {},
     "output_type": "execute_result"
    }
   ],
   "source": [
    "df2 = pd.concat(combined_list,ignore_index=True)\n",
    "df2 = df2.drop(['Notes','Match Report','Round'], axis=1)\n",
    "\n",
    "df2.columns\n",
    "\n",
    "int64_col = ['Wk','Attendance']\n",
    "float64_col = ['xG','xG.1']\n",
    "\n",
    "\n",
    "for col in int64_col:\n",
    "    df2[col] = pd.to_numeric(df2[col], errors='coerce').astype('Int64')\n",
    "for col in float64_col:\n",
    "    df2[col] = pd.to_numeric(df2[col], errors='coerce').astype('float64')\n",
    "\n",
    "df2 = df2.astype({\n",
    "    'Day': 'string',\n",
    "    'Home': 'string',\n",
    "    'Away': 'string',\n",
    "    'Venue': 'string',\n",
    "    'Referee': 'string',\n",
    "    'League': 'string',\n",
    "    'Score': 'string',\n",
    "    'Date':'string',\n",
    "    'Time':'string'\n",
    "\n",
    "})\n",
    "df2.dtypes"
   ]
  },
  {
   "cell_type": "code",
   "execution_count": 1,
   "id": "11cdd261",
   "metadata": {},
   "outputs": [
    {
     "ename": "NameError",
     "evalue": "name 'df2' is not defined",
     "output_type": "error",
     "traceback": [
      "\u001b[31m---------------------------------------------------------------------------\u001b[39m",
      "\u001b[31mNameError\u001b[39m                                 Traceback (most recent call last)",
      "\u001b[36mCell\u001b[39m\u001b[36m \u001b[39m\u001b[32mIn[1]\u001b[39m\u001b[32m, line 6\u001b[39m\n\u001b[32m      1\u001b[39m new_columns = {\n\u001b[32m      2\u001b[39m     \u001b[33m'\u001b[39m\u001b[33mxG\u001b[39m\u001b[33m'\u001b[39m: \u001b[33m'\u001b[39m\u001b[33mHome xG\u001b[39m\u001b[33m'\u001b[39m,\n\u001b[32m      3\u001b[39m     \u001b[33m'\u001b[39m\u001b[33mxG.1\u001b[39m\u001b[33m'\u001b[39m:\u001b[33m'\u001b[39m\u001b[33mAway xG\u001b[39m\u001b[33m'\u001b[39m,\n\u001b[32m      4\u001b[39m }\n\u001b[32m----> \u001b[39m\u001b[32m6\u001b[39m \u001b[43mdf2\u001b[49m.rename(columns=new_columns, inplace=\u001b[38;5;28;01mTrue\u001b[39;00m)\n\u001b[32m      8\u001b[39m df2\n",
      "\u001b[31mNameError\u001b[39m: name 'df2' is not defined"
     ]
    }
   ],
   "source": [
    "new_columns = {\n",
    "    'xG': 'Home xG',\n",
    "    'xG.1':'Away xG',\n",
    "}\n",
    "\n",
    "df2.rename(columns=new_columns, inplace=True)\n",
    "\n",
    "df2"
   ]
  }
 ],
 "metadata": {
  "kernelspec": {
   "display_name": "Python 3",
   "language": "python",
   "name": "python3"
  },
  "language_info": {
   "codemirror_mode": {
    "name": "ipython",
    "version": 3
   },
   "file_extension": ".py",
   "mimetype": "text/x-python",
   "name": "python",
   "nbconvert_exporter": "python",
   "pygments_lexer": "ipython3",
   "version": "3.13.5"
  }
 },
 "nbformat": 4,
 "nbformat_minor": 5
}
