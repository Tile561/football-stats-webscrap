{
 "cells": [
  {
   "cell_type": "code",
   "execution_count": null,
   "id": "99039a18",
   "metadata": {},
   "outputs": [
    {
     "name": "stdout",
     "output_type": "stream",
     "text": [
      "200 https://fbref.com/en/comps/20/2024-2025/stats/2024-2025-Bundesliga-Stats\n",
      "Found stats_standard in comment for Bundesliga 2024-2025\n",
      "200 https://fbref.com/en/comps/9/2024-2025/stats/2024-2025-Premier-League-Stats\n",
      "Found stats_standard in comment for Premier League 2024-2025\n",
      "200 https://fbref.com/en/comps/12/2024-2025/stats/2024-2025-La-Liga-Stats\n",
      "Found stats_standard in comment for La Liga 2024-2025\n",
      "200 https://fbref.com/en/comps/11/2024-2025/stats/2024-2025-Serie-A-Stats\n",
      "Found stats_standard in comment for Serie A 2024-2025\n"
     ]
    }
   ],
   "source": [
    "%run all_players.ipynb\n",
    "\n",
    "\n",
    "\n",
    "import nbimporter\n",
    "from all_players import scrape_player_stats\n",
    "import pandas as pd\n",
    "from bs4 import BeautifulSoup, Comment\n",
    "import requests\n",
    "import time\n",
    "\n",
    "leagues = [\n",
    "    {\n",
    "        \"name\": \"Bundesliga\",\n",
    "        \"url\": \"https://fbref.com/en/comps/20/{year}/schedule/{year}-Bundesliga-Scores-and-Fixtures\"\n",
    "    },\n",
    "    {\n",
    "        \"name\": \"Premier League\",\n",
    "        \"url\": \"https://fbref.com/en/comps/9/{year}/schedule/{year}-Premier-League-Scores-and-Fixtures\"\n",
    "    },\n",
    "    {\n",
    "        \"name\": \"Serie A\",\n",
    "        \"url\": \"https://fbref.com/en/comps/11/{year}/schedule/{year}-Serie-A-Scores-and-Fixtures\"\n",
    "    },\n",
    "    {\n",
    "        \"name\": \"La Liga\",\n",
    "        \"url\": \"https://fbref.com/en/comps/12/{year}/schedule/{year}-La-Liga-Scores-and-Fixtures\"\n",
    "    },\n",
    "    {\n",
    "        \"name\": \"Ligue 1\",\n",
    "        \"url\": \"https://fbref.com/en/comps/13/{year}/schedule/{year}-Ligue-1-Scores-and-Fixtures\"\n",
    "    },\n",
    "    {\n",
    "        \"name\": \"Eredivisie\",\n",
    "        \"url\": \"https://fbref.com/en/comps/23/{year}/schedule/{year}-Eredivisie-Scores-and-Fixtures\"\n",
    "    },\n",
    "    {        \"name\": \"Primeira Liga\",\n",
    "        \"url\": \"https://fbref.com/en/comps/32/{year}/schedule/{year}-Primeira-Liga-Scores-and-Fixtures\"\n",
    "    \n",
    "    },\n",
    "    {\n",
    "        \"name\": \"EFL Championship\",\n",
    "        \"url\": \"https://fbref.com/en/comps/10/{year}/schedule/{year}-EFL-Championship-Scores-and-Fixtures\"\n",
    "    },\n",
    "    {\n",
    "        \"name\": \"Scottish Premiership\",\n",
    "        \"url\": \"https://fbref.com/en/comps/40/{year}/schedule/{year}-Scottish-Premiership-Scores-and-Fixtures\"\n",
    "    }\n",
    "]\n"
   ]
  }
 ],
 "metadata": {
  "kernelspec": {
   "display_name": "Python 3",
   "language": "python",
   "name": "python3"
  },
  "language_info": {
   "codemirror_mode": {
    "name": "ipython",
    "version": 3
   },
   "file_extension": ".py",
   "mimetype": "text/x-python",
   "name": "python",
   "nbconvert_exporter": "python",
   "pygments_lexer": "ipython3",
   "version": "3.13.5"
  }
 },
 "nbformat": 4,
 "nbformat_minor": 5
}
