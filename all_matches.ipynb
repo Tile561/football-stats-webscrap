{
 "cells": [
  {
   "cell_type": "code",
   "execution_count": 2,
   "id": "99039a18",
   "metadata": {},
   "outputs": [],
   "source": [
    "import pandas as pd\n",
    "pd.set_option('display.max_columns', None)\n",
    "from scrape_stats_function import combine_match_data\n",
    "\n",
    "years = [\"2024-2025\",\"2023-2024\",\"2022-2023\",\"2021-2022\",\"2020-2021\",\"2019-2020\",\"2018-2019\",\"2017-2018\",\"2016-2017\",\"2015-2016\",\"2014-2015\",\"2013-2014\",\"2012-2013\",\"2011-2012\",\"2010-2011\"]\n",
    "leagueinfo = [\n",
    "    {\n",
    "        \"name\": \"Bundesliga\",\n",
    "        \"url\": \"https://fbref.com/en/comps/20/{year}/schedule/{year}-Bundesliga-Scores-and-Fixtures\"\n",
    "    },\n",
    "    {\n",
    "        \"name\": \"Premier League\",\n",
    "        \"url\": \"https://fbref.com/en/comps/9/{year}/schedule/{year}-Premier-League-Scores-and-Fixtures\"\n",
    "    },\n",
    "    {\n",
    "        \"name\": \"Serie A\",\n",
    "        \"url\": \"https://fbref.com/en/comps/11/{year}/schedule/{year}-Serie-A-Scores-and-Fixtures\"\n",
    "    },\n",
    "    {\n",
    "        \"name\": \"La Liga\",\n",
    "        \"url\": \"https://fbref.com/en/comps/12/{year}/schedule/{year}-La-Liga-Scores-and-Fixtures\"\n",
    "    },\n",
    "    {\n",
    "        \"name\": \"Ligue 1\",\n",
    "        \"url\": \"https://fbref.com/en/comps/13/{year}/schedule/{year}-Ligue-1-Scores-and-Fixtures\"\n",
    "    },\n",
    "    {\n",
    "        \"name\": \"Eredivisie\",\n",
    "        \"url\": \"https://fbref.com/en/comps/23/{year}/schedule/{year}-Eredivisie-Scores-and-Fixtures\"\n",
    "    },\n",
    "    {        \"name\": \"Primeira Liga\",\n",
    "        \"url\": \"https://fbref.com/en/comps/32/{year}/schedule/{year}-Primeira-Liga-Scores-and-Fixtures\"\n",
    "    \n",
    "    },\n",
    "    {\n",
    "        \"name\": \"EFL Championship\",\n",
    "        \"url\": \"https://fbref.com/en/comps/10/{year}/schedule/{year}-EFL-Championship-Scores-and-Fixtures\"\n",
    "    },\n",
    "    {\n",
    "        \"name\": \"Scottish Premiership\",\n",
    "        \"url\": \"https://fbref.com/en/comps/40/{year}/schedule/{year}-Scottish-Premiership-Scores-and-Fixtures\"\n",
    "    }\n",
    "]"
   ]
  },
  {
   "cell_type": "code",
   "execution_count": 4,
   "id": "553ece1d",
   "metadata": {},
   "outputs": [
    {
     "name": "stdout",
     "output_type": "stream",
     "text": [
      "200 https://fbref.com/en/comps/20/2024-2025/schedule/2024-2025-Bundesliga-Scores-and-Fixtures\n",
      "200 https://fbref.com/en/comps/9/2024-2025/schedule/2024-2025-Premier-League-Scores-and-Fixtures\n",
      "200 https://fbref.com/en/comps/11/2024-2025/schedule/2024-2025-Serie-A-Scores-and-Fixtures\n",
      "200 https://fbref.com/en/comps/12/2024-2025/schedule/2024-2025-La-Liga-Scores-and-Fixtures\n",
      "Scraping interrupted\n"
     ]
    }
   ],
   "source": [
    "combined_list = []\n",
    "combined_list = combine_match_data(years, leagueinfo, table_id=None)"
   ]
  },
  {
   "cell_type": "code",
   "execution_count": 5,
   "id": "78db52f7",
   "metadata": {},
   "outputs": [
    {
     "data": {
      "text/plain": [
       "Wk                     Int64\n",
       "Day           string[python]\n",
       "Date          string[python]\n",
       "Time          string[python]\n",
       "Home          string[python]\n",
       "xG                   float64\n",
       "Score         string[python]\n",
       "xG.1                 float64\n",
       "Away          string[python]\n",
       "Attendance             Int64\n",
       "Venue         string[python]\n",
       "Referee       string[python]\n",
       "League        string[python]\n",
       "dtype: object"
      ]
     },
     "execution_count": 5,
     "metadata": {},
     "output_type": "execute_result"
    }
   ],
   "source": [
    "df2 = pd.concat(combined_list,ignore_index=True)\n",
    "df2 = df2.drop(['Notes','Match Report','Round'], axis=1)\n",
    "\n",
    "df2.columns\n",
    "\n",
    "int64_col = ['Wk','Attendance']\n",
    "float64_col = ['xG','xG.1']\n",
    "\n",
    "\n",
    "for col in int64_col:\n",
    "    df2[col] = pd.to_numeric(df2[col], errors='coerce').astype('Int64')\n",
    "for col in float64_col:\n",
    "    df2[col] = pd.to_numeric(df2[col], errors='coerce').astype('float64')\n",
    "\n",
    "df2 = df2.astype({\n",
    "    'Day': 'string',\n",
    "    'Home': 'string',\n",
    "    'Away': 'string',\n",
    "    'Venue': 'string',\n",
    "    'Referee': 'string',\n",
    "    'League': 'string',\n",
    "    'Score': 'string',\n",
    "    'Date':'string',\n",
    "    'Time':'string'\n",
    "\n",
    "})\n",
    "df2.dtypes"
   ]
  },
  {
   "cell_type": "code",
   "execution_count": 6,
   "id": "1abbb8b4",
   "metadata": {},
   "outputs": [],
   "source": [
    "from unidecode import unidecode\n",
    "normalize_name = ['Day','Home','Away','Venue','Referee','League','Score','Date','Time']\n",
    "\n",
    "for col in normalize_name:\n",
    "    df2[col] = df2[col].str.strip().str.lower()\n",
    "    df2[col] = df2[col].apply(lambda x: unidecode(x) if isinstance(x, str) else x)"
   ]
  },
  {
   "cell_type": "code",
   "execution_count": null,
   "id": "11cdd261",
   "metadata": {},
   "outputs": [
    {
     "data": {
      "text/plain": [
       "np.int64(156)"
      ]
     },
     "execution_count": 8,
     "metadata": {},
     "output_type": "execute_result"
    }
   ],
   "source": [
    "new_columns = {\n",
    "    'xG': 'Home xG',\n",
    "    'xG.1':'Away xG',\n",
    "}\n",
    "\n",
    "df2.rename(columns=new_columns, inplace=True)\n",
    "\n"
   ]
  },
  {
   "cell_type": "code",
   "execution_count": null,
   "id": "c01467b7",
   "metadata": {},
   "outputs": [
    {
     "data": {
      "text/html": [
       "<div>\n",
       "<style scoped>\n",
       "    .dataframe tbody tr th:only-of-type {\n",
       "        vertical-align: middle;\n",
       "    }\n",
       "\n",
       "    .dataframe tbody tr th {\n",
       "        vertical-align: top;\n",
       "    }\n",
       "\n",
       "    .dataframe thead th {\n",
       "        text-align: right;\n",
       "    }\n",
       "</style>\n",
       "<table border=\"1\" class=\"dataframe\">\n",
       "  <thead>\n",
       "    <tr style=\"text-align: right;\">\n",
       "      <th></th>\n",
       "      <th>Wk</th>\n",
       "      <th>Day</th>\n",
       "      <th>Date</th>\n",
       "      <th>Time</th>\n",
       "      <th>Home</th>\n",
       "      <th>Home xG</th>\n",
       "      <th>Score</th>\n",
       "      <th>Away xG</th>\n",
       "      <th>Away</th>\n",
       "      <th>Attendance</th>\n",
       "      <th>Venue</th>\n",
       "      <th>Referee</th>\n",
       "      <th>League</th>\n",
       "    </tr>\n",
       "  </thead>\n",
       "  <tbody>\n",
       "  </tbody>\n",
       "</table>\n",
       "</div>"
      ],
      "text/plain": [
       "Empty DataFrame\n",
       "Columns: [Wk, Day, Date, Time, Home, Home xG, Score, Away xG, Away, Attendance, Venue, Referee, League]\n",
       "Index: []"
      ]
     },
     "execution_count": 11,
     "metadata": {},
     "output_type": "execute_result"
    }
   ],
   "source": [
    "df2.drop_duplicates(inplace=True)"
   ]
  }
 ],
 "metadata": {
  "kernelspec": {
   "display_name": "Python 3",
   "language": "python",
   "name": "python3"
  },
  "language_info": {
   "codemirror_mode": {
    "name": "ipython",
    "version": 3
   },
   "file_extension": ".py",
   "mimetype": "text/x-python",
   "name": "python",
   "nbconvert_exporter": "python",
   "pygments_lexer": "ipython3",
   "version": "3.13.5"
  }
 },
 "nbformat": 4,
 "nbformat_minor": 5
}
