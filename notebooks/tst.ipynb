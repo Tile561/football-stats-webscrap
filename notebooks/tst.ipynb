{
 "cells": [
  {
   "cell_type": "code",
   "execution_count": 1,
   "id": "5b865d94",
   "metadata": {},
   "outputs": [],
   "source": [
    "from scrappers.scrappers import combine_data\n",
    "#from config import standard_url\n",
    "from scrappers.scrappers import get_player_links\n",
    "import pandas as pd\n",
    "years = [\"2024-2025\"]\n",
    "import os\n",
    "standard_url = [\n",
    "    {\n",
    "        \"name\": \"Bundesliga\",\n",
    "        \"url\": \"https://fbref.com/en/comps/20/{year}/stats/{year}-Bundesliga-Stats\"\n",
    "    },\n",
    "]"
   ]
  },
  {
   "cell_type": "code",
   "execution_count": 2,
   "id": "a62da274",
   "metadata": {},
   "outputs": [],
   "source": [
    "def make_matchlog_links(player_urls, years, stats):\n",
    "    links = {stat: [] for stat in stats}  # dict of lists\n",
    "    for url in player_urls:\n",
    "        parts = url.strip(\"/\").split(\"/\")\n",
    "        player_id = parts[-2]\n",
    "        player_slug = parts[-1]\n",
    "        for year in years:\n",
    "            for stat in stats:\n",
    "                matchlog_url = f\"https://fbref.com/en/players/{player_id}/matchlogs/{year}/{stat}/{player_slug}-Match-Logs\"\n",
    "                links[stat].append({\n",
    "                    \"name\": f\"{player_slug} - {stat}\",\n",
    "                    \"url\": matchlog_url\n",
    "                })\n",
    "    return links\n"
   ]
  },
  {
   "cell_type": "code",
   "execution_count": 5,
   "id": "6e25e5b2",
   "metadata": {},
   "outputs": [],
   "source": [
    "def get_match_logs(years, player_links, stats):\n",
    "    matchlog_links = make_matchlog_links(player_links, years, stats)\n",
    "    \n",
    "    all_dfs = {}\n",
    "    for stat, links in matchlog_links.items():\n",
    "        dfs = []\n",
    "        for link in links:\n",
    "            try:\n",
    "                df_list = combine_data(years, [link], table_id=\"matchlogs_all\")  # may return a list\n",
    "                if df_list:  \n",
    "                    # flatten if df_list is already a list of DataFrames\n",
    "                    if isinstance(df_list, list):\n",
    "                        dfs.extend(df_list)\n",
    "                    else:\n",
    "                        dfs.append(df_list)\n",
    "            except Exception as e:\n",
    "                print(f\"Error retrieving {link['url']}: {e}\")\n",
    "        if dfs:\n",
    "            all_dfs[stat] = pd.concat(dfs, ignore_index=True)\n",
    "        else:\n",
    "            print(f\"No data retrieved for category {stat}\")\n",
    "    return all_dfs\n"
   ]
  },
  {
   "cell_type": "code",
   "execution_count": 7,
   "id": "4c07a719",
   "metadata": {},
   "outputs": [
    {
     "name": "stdout",
     "output_type": "stream",
     "text": [
      "found stats_standard for https://fbref.com/en/comps/20/2024-2025/stats/2024-2025-Bundesliga-Stats\n",
      "200 https://fbref.com/en/players/82e12fe7/matchlogs/2024-2025/summary/Junior-Adamu-Match-Logs\n",
      "200 https://fbref.com/en/players/501055d8/matchlogs/2024-2025/summary/Karim-Adeyemi-Match-Logs\n",
      "200 https://fbref.com/en/players/82e12fe7/matchlogs/2024-2025/defense/Junior-Adamu-Match-Logs\n",
      "200 https://fbref.com/en/players/501055d8/matchlogs/2024-2025/defense/Karim-Adeyemi-Match-Logs\n",
      "200 https://fbref.com/en/players/82e12fe7/matchlogs/2024-2025/passing/Junior-Adamu-Match-Logs\n",
      "200 https://fbref.com/en/players/501055d8/matchlogs/2024-2025/passing/Karim-Adeyemi-Match-Logs\n",
      "200 https://fbref.com/en/players/82e12fe7/matchlogs/2024-2025/gca/Junior-Adamu-Match-Logs\n",
      "200 https://fbref.com/en/players/501055d8/matchlogs/2024-2025/gca/Karim-Adeyemi-Match-Logs\n",
      "200 https://fbref.com/en/players/82e12fe7/matchlogs/2024-2025/possession/Junior-Adamu-Match-Logs\n",
      "200 https://fbref.com/en/players/501055d8/matchlogs/2024-2025/possession/Karim-Adeyemi-Match-Logs\n",
      "200 https://fbref.com/en/players/82e12fe7/matchlogs/2024-2025/passing_types/Junior-Adamu-Match-Logs\n",
      "200 https://fbref.com/en/players/501055d8/matchlogs/2024-2025/passing_types/Karim-Adeyemi-Match-Logs\n",
      "200 https://fbref.com/en/players/82e12fe7/matchlogs/2024-2025/keeper/Junior-Adamu-Match-Logs\n",
      "200 https://fbref.com/en/players/501055d8/matchlogs/2024-2025/keeper/Karim-Adeyemi-Match-Logs\n",
      "Saved summary match logs to data\\raw\\player_match_logs_summary.csv\n",
      "Saved defense match logs to data\\raw\\player_match_logs_defense.csv\n",
      "Saved passing match logs to data\\raw\\player_match_logs_passing.csv\n",
      "Saved gca match logs to data\\raw\\player_match_logs_gca.csv\n",
      "Saved possession match logs to data\\raw\\player_match_logs_possession.csv\n",
      "Saved passing_types match logs to data\\raw\\player_match_logs_passing_types.csv\n",
      "Saved keeper match logs to data\\raw\\player_match_logs_keeper.csv\n"
     ]
    }
   ],
   "source": [
    "stats = [\"summary\",\"defense\",\"passing\",\"gca\",\"possession\",\"passing_types\",\"keeper\"]\n",
    "player_links = get_player_links(years, standard_url)\n",
    "\n",
    "player_links = player_links[:2]\n",
    "\n",
    "all_match_logs = get_match_logs(years, player_links, stats)\n",
    "\n",
    "# Save each category separately\n",
    "os.makedirs(\"data/raw\", exist_ok=True)\n",
    "for stat, df in all_match_logs.items():\n",
    "    output_path = os.path.join(\"data\", \"raw\", f\"player_match_logs_{stat}.csv\")\n",
    "    df.to_csv(output_path, index=False)\n",
    "    print(f\"Saved {stat} match logs to {output_path}\")\n"
   ]
  }
 ],
 "metadata": {
  "kernelspec": {
   "display_name": "base",
   "language": "python",
   "name": "python3"
  },
  "language_info": {
   "codemirror_mode": {
    "name": "ipython",
    "version": 3
   },
   "file_extension": ".py",
   "mimetype": "text/x-python",
   "name": "python",
   "nbconvert_exporter": "python",
   "pygments_lexer": "ipython3",
   "version": "3.10.9"
  }
 },
 "nbformat": 4,
 "nbformat_minor": 5
}
