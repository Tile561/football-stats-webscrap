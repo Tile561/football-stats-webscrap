{
 "cells": [
  {
   "cell_type": "code",
   "execution_count": 5,
   "id": "4352b5c9",
   "metadata": {},
   "outputs": [
    {
     "data": {
      "text/plain": [
       "\"\\n    for comment in soup.find_all(string=lambda text: isinstance(text, Comment)):\\n        if 'stats_standard' in comment:\\n            comment_soup = BeautifulSoup(comment, 'html.parser')\\n            table = comment_soup.find('table', id='stats_standard')\\n\""
      ]
     },
     "execution_count": 5,
     "metadata": {},
     "output_type": "execute_result"
    }
   ],
   "source": [
    "import requests\n",
    "import pandas as pd\n",
    "from bs4 import BeautifulSoup, Comment\n",
    "import warnings\n",
    "\n",
    "\n",
    "def scrape_player_stats(player_name, url, table_id=\"stats_standard\", season=None):\n",
    "    warnings.filterwarnings(\"ignore\")\n",
    "    headers = {'User-Agent': 'Mozilla/5.0'}\n",
    "    response = requests.get(url, headers=headers, verify=False)\n",
    "    soup = BeautifulSoup(response.content, 'html.parser')\n",
    "    table = soup.find(\"table\", id =table_id) if table_id else soup.find(\"table\")\n",
    "    if not table:\n",
    "        for comment in soup.find_all(string=lambda text: isinstance(text, Comment)):\n",
    "            if 'stats_standard' in comment:\n",
    "                comment_soup = BeautifulSoup(comment, 'html.parser')\n",
    "                table = comment_soup.find('table', id='stats_standard')\n",
    "                thead = table.find('thead')\n",
    "                theader = thead.find_all('th')\n",
    "                columns = [th.text.strip() for th in theader.find_all('th')]\n",
    "                n = 7\n",
    "                sub_columns = columns[n:]\n",
    "                tbody = table.find('tbody')\n",
    "                rows = tbody.find_all('tr')\n",
    "                f = []\n",
    "                for row in rows:\n",
    "                    cells = row.find_all(['td', 'th'])\n",
    "                    if len(cells) > 0:\n",
    "                        data = [cell.text.strip() for cell in cells]\n",
    "                        f.append(data)\n",
    "                df2 = pd.DataFrame(f, columns=sub_columns)\n",
    "            \n",
    "\n",
    "                if not table:\n",
    "                    print(f\"Table not found for {player_name}\")\n",
    "                    return None\n",
    "\n",
    "                df = pd.read_html(str(table), header=1)[0]\n",
    "                df['League'] = player_name\n",
    "                #df['Season'] = season\n",
    "\n",
    "                return df2\n",
    "\n",
    "\n",
    "'''\n",
    "    for comment in soup.find_all(string=lambda text: isinstance(text, Comment)):\n",
    "        if 'stats_standard' in comment:\n",
    "            comment_soup = BeautifulSoup(comment, 'html.parser')\n",
    "            table = comment_soup.find('table', id='stats_standard')\n",
    "'''"
   ]
  },
  {
   "cell_type": "code",
   "execution_count": 6,
   "id": "75875f23",
   "metadata": {},
   "outputs": [
    {
     "ename": "AttributeError",
     "evalue": "ResultSet object has no attribute \"find_all\". You're probably treating a list of elements like a single element. Did you call find_all() when you meant to call find()?",
     "output_type": "error",
     "traceback": [
      "\u001b[31m---------------------------------------------------------------------------\u001b[39m",
      "\u001b[31mAttributeError\u001b[39m                            Traceback (most recent call last)",
      "\u001b[36mCell\u001b[39m\u001b[36m \u001b[39m\u001b[32mIn[6]\u001b[39m\u001b[32m, line 55\u001b[39m\n\u001b[32m     53\u001b[39m combined_list = []\n\u001b[32m     54\u001b[39m \u001b[38;5;28;01mfor\u001b[39;00m league \u001b[38;5;129;01min\u001b[39;00m leagues:\n\u001b[32m---> \u001b[39m\u001b[32m55\u001b[39m     df = \u001b[43mscrape_player_stats\u001b[49m\u001b[43m(\u001b[49m\u001b[43mleague\u001b[49m\u001b[43m[\u001b[49m\u001b[33;43m\"\u001b[39;49m\u001b[33;43mname\u001b[39;49m\u001b[33;43m\"\u001b[39;49m\u001b[43m]\u001b[49m\u001b[43m,\u001b[49m\u001b[43m \u001b[49m\u001b[43mleague\u001b[49m\u001b[43m[\u001b[49m\u001b[33;43m\"\u001b[39;49m\u001b[33;43murl\u001b[39;49m\u001b[33;43m\"\u001b[39;49m\u001b[43m]\u001b[49m\u001b[43m)\u001b[49m\n\u001b[32m     56\u001b[39m     \u001b[38;5;28;01mif\u001b[39;00m df \u001b[38;5;129;01mis\u001b[39;00m \u001b[38;5;129;01mnot\u001b[39;00m \u001b[38;5;28;01mNone\u001b[39;00m:\n\u001b[32m     57\u001b[39m         league_dfs[league[\u001b[33m\"\u001b[39m\u001b[33mname\u001b[39m\u001b[33m\"\u001b[39m]] = df\n",
      "\u001b[36mCell\u001b[39m\u001b[36m \u001b[39m\u001b[32mIn[5]\u001b[39m\u001b[32m, line 20\u001b[39m, in \u001b[36mscrape_player_stats\u001b[39m\u001b[34m(player_name, url, table_id, season)\u001b[39m\n\u001b[32m     18\u001b[39m thead = table.find(\u001b[33m'\u001b[39m\u001b[33mthead\u001b[39m\u001b[33m'\u001b[39m)\n\u001b[32m     19\u001b[39m theader = thead.find_all(\u001b[33m'\u001b[39m\u001b[33mth\u001b[39m\u001b[33m'\u001b[39m)\n\u001b[32m---> \u001b[39m\u001b[32m20\u001b[39m columns = [th.text.strip() \u001b[38;5;28;01mfor\u001b[39;00m th \u001b[38;5;129;01min\u001b[39;00m \u001b[43mtheader\u001b[49m\u001b[43m.\u001b[49m\u001b[43mfind_all\u001b[49m(\u001b[33m'\u001b[39m\u001b[33mth\u001b[39m\u001b[33m'\u001b[39m)]\n\u001b[32m     21\u001b[39m n = \u001b[32m7\u001b[39m\n\u001b[32m     22\u001b[39m sub_columns = columns[n:]\n",
      "\u001b[36mFile \u001b[39m\u001b[32mc:\\Users\\JMerilien\\AppData\\Local\\Programs\\Python\\Python313\\Lib\\site-packages\\bs4\\element.py:2885\u001b[39m, in \u001b[36mResultSet.__getattr__\u001b[39m\u001b[34m(self, key)\u001b[39m\n\u001b[32m   2883\u001b[39m \u001b[38;5;28;01mdef\u001b[39;00m\u001b[38;5;250m \u001b[39m\u001b[34m__getattr__\u001b[39m(\u001b[38;5;28mself\u001b[39m, key: \u001b[38;5;28mstr\u001b[39m) -> \u001b[38;5;28;01mNone\u001b[39;00m:\n\u001b[32m   2884\u001b[39m \u001b[38;5;250m    \u001b[39m\u001b[33;03m\"\"\"Raise a helpful exception to explain a common code fix.\"\"\"\u001b[39;00m\n\u001b[32m-> \u001b[39m\u001b[32m2885\u001b[39m     \u001b[38;5;28;01mraise\u001b[39;00m \u001b[38;5;167;01mAttributeError\u001b[39;00m(\n\u001b[32m   2886\u001b[39m         \u001b[33mf\u001b[39m\u001b[33m\"\"\"\u001b[39m\u001b[33mResultSet object has no attribute \u001b[39m\u001b[33m\"\u001b[39m\u001b[38;5;132;01m{\u001b[39;00mkey\u001b[38;5;132;01m}\u001b[39;00m\u001b[33m\"\u001b[39m\u001b[33m. You\u001b[39m\u001b[33m'\u001b[39m\u001b[33mre probably treating a list of elements like a single element. Did you call find_all() when you meant to call find()?\u001b[39m\u001b[33m\"\"\"\u001b[39m\n\u001b[32m   2887\u001b[39m     )\n",
      "\u001b[31mAttributeError\u001b[39m: ResultSet object has no attribute \"find_all\". You're probably treating a list of elements like a single element. Did you call find_all() when you meant to call find()?"
     ]
    }
   ],
   "source": [
    "#https://fbref.com/en/comps/20/stats/Bundesliga-Stats\n",
    "years = [\"2024-2025\",\"2023-2024\",\"2022-2023\",\"2021-2022\",\"2020-2021\",\"2019-2020\",\"2018-2019\",\"2017-2018\",\"2016-2017\",\"2015-2016\"]\n",
    "leagueinfo = [\n",
    "    {\n",
    "        \"name\": \"Bundesliga\",\n",
    "        \"url\": \"https://fbref.com/en/comps/20/{year}/stats/{year}-Bundesliga-Stats\"\n",
    "    },\n",
    "    {\n",
    "        \"name\": \"Premier League\",\n",
    "        \"url\": \"https://fbref.com/en/comps/9/{year}/stats/{year}-Premier-League-Stats\"\n",
    "    },\n",
    "    {\n",
    "        \"name\": \"La Liga\",\n",
    "        \"url\": \"https://fbref.com/en/comps/12/{year}/stats/{year}-La-Liga-Stats\"\n",
    "    },\n",
    "    {\n",
    "        \"name\": \"Serie A\",\n",
    "        \"url\": \"https://fbref.com/en/comps/11/{year}/stats/{year}-Serie-A-Stats\"\n",
    "    },\n",
    "    {\n",
    "        \"name\": \"Ligue 1\",\n",
    "        \"url\": \"https://fbref.com/en/comps/13/{year}/stats/{year}-Ligue-1-Stats\"\n",
    "    },\n",
    "    {\n",
    "        \"name\": \"Eredivisie\",\n",
    "        \"url\": \"https://fbref.com/en/comps/23/{year}/stats/{year}-Eredivisie-Stats\"\n",
    "    },\n",
    "    {\n",
    "        \"name\": \"Primeira Liga\",\n",
    "        \"url\": \"https://fbref.com/en/comps/32/{year}/stats/{year}-Primeira-Liga-Stats\"\n",
    "    },\n",
    "    {\n",
    "        \"name\": \"Championship\",\n",
    "        \"url\": \"https://fbref.com/en/comps/10/{year}/stats/{year}-EFL-Championship-Stats\"\n",
    "    },\n",
    "    {\n",
    "        \"name\": \"Scottish Premiership\",\n",
    "        \"url\": \"https://fbref.com/en/comps/40/{year}/stats/{year}-Scottish-Premiership-Stats\"\n",
    "    }\n",
    " \n",
    "]\n",
    "\n",
    "leagues = []\n",
    "for year in years:\n",
    "    for league in leagueinfo:\n",
    "        leagues.append({\n",
    "            \"name\": f\"{league['name']} {year}\",\n",
    "            \"url\": league[\"url\"].format(year=year),\n",
    "            \"season\": year.replace(\"-\", \"/\"),\n",
    "        })\n",
    "\n",
    "league_dfs = {}\n",
    "combined_list = []\n",
    "for league in leagues:\n",
    "    df = scrape_player_stats(league[\"name\"], league[\"url\"])\n",
    "    if df is not None:\n",
    "        league_dfs[league[\"name\"]] = df\n",
    "        combined_list.append(df)"
   ]
  },
  {
   "cell_type": "code",
   "execution_count": null,
   "id": "b0f081ad",
   "metadata": {},
   "outputs": [
    {
     "data": {
      "text/plain": [
       "League\n",
       "Serie A 2024-2025          659\n",
       "Serie A 2019-2020          624\n",
       "Serie A 2016-2017          605\n",
       "La Liga 2019-2020          592\n",
       "Primeira Liga 2019-2020    584\n",
       "Ligue 1 2024-2025          575\n",
       "Eredivisie 2015-2016       491\n",
       "Name: count, dtype: int64"
      ]
     },
     "execution_count": 59,
     "metadata": {},
     "output_type": "execute_result"
    }
   ],
   "source": [
    "df = pd.concat(combined_list,ignore_index=True)\n",
    "df['League'].value_counts()"
   ]
  },
  {
   "cell_type": "code",
   "execution_count": null,
   "id": "f3adb13c",
   "metadata": {},
   "outputs": [
    {
     "data": {
      "text/plain": [
       "['Serie A 2024-2025',\n",
       " 'Ligue 1 2024-2025',\n",
       " 'La Liga 2019-2020',\n",
       " 'Serie A 2019-2020',\n",
       " 'Primeira Liga 2019-2020',\n",
       " 'Serie A 2016-2017',\n",
       " 'Eredivisie 2015-2016']"
      ]
     },
     "execution_count": 50,
     "metadata": {},
     "output_type": "execute_result"
    }
   ],
   "source": [
    "league_dfs =  pd.concat(combined_list, ignore_index=True)\n",
    "league_dfs['League'].unique().tolist()"
   ]
  },
  {
   "cell_type": "code",
   "execution_count": null,
   "id": "b03602a2",
   "metadata": {},
   "outputs": [
    {
     "data": {
      "text/plain": [
       "['Serie A 2024-2025',\n",
       " 'Ligue 1 2024-2025',\n",
       " 'La Liga 2019-2020',\n",
       " 'Serie A 2019-2020',\n",
       " 'Primeira Liga 2019-2020',\n",
       " 'Serie A 2016-2017',\n",
       " 'Eredivisie 2015-2016']"
      ]
     },
     "execution_count": 51,
     "metadata": {},
     "output_type": "execute_result"
    }
   ],
   "source": [
    "df = pd.concat(combined_list, ignore_index=True)\n",
    "df['League'].unique().tolist()\n"
   ]
  }
 ],
 "metadata": {
  "kernelspec": {
   "display_name": "Python 3",
   "language": "python",
   "name": "python3"
  },
  "language_info": {
   "codemirror_mode": {
    "name": "ipython",
    "version": 3
   },
   "file_extension": ".py",
   "mimetype": "text/x-python",
   "name": "python",
   "nbconvert_exporter": "python",
   "pygments_lexer": "ipython3",
   "version": "3.13.5"
  }
 },
 "nbformat": 4,
 "nbformat_minor": 5
}
