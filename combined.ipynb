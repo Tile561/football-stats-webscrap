{
 "cells": [
  {
   "cell_type": "code",
   "execution_count": 41,
   "id": "89a5800f",
   "metadata": {},
   "outputs": [],
   "source": [
    "from scrape_stats_function import combine_data\n",
    "import pandas as pd\n",
    "from scrape_stats_function import combine_match_data\n",
    "#import mysql\n",
    "\n",
    "pd.set_option('display.max_columns', None)\n"
   ]
  },
  {
   "cell_type": "code",
   "execution_count": 23,
   "id": "e96f50f4",
   "metadata": {},
   "outputs": [
    {
     "name": "stdout",
     "output_type": "stream",
     "text": [
      "200 https://fbref.com/en/comps/20/2024-2025/gca/2024-2025-Bundesliga-Stats\n",
      "Found stats_gca in comment for Bundesliga 2024-2025\n",
      "Found stats_gca in comment for Bundesliga 2024-2025\n",
      "Scraping interrupted\n"
     ]
    }
   ],
   "source": [
    "\n",
    "years = [\"2024-2025\",\"2023-2024\",\"2022-2023\",\"2021-2022\",\"2020-2021\",\"2019-2020\",\"2018-2019\",\"2017-2018\",\"2016-2017\",\"2015-2016\",\"2014-2015\",\"2013-2014\",\"2012-2013\",\"2011-2012\",\"2010-2011\"]\n",
    "leagueinfo = [\n",
    "    {\n",
    "        \"name\": \"Bundesliga\",\n",
    "        \"url\": \"https://fbref.com/en/comps/20/{year}/gca/{year}-Bundesliga-Stats\"\n",
    "    },\n",
    "    {\n",
    "        \"name\": \"Premier League\",\n",
    "        \"url\": \"https://fbref.com/en/comps/9/{year}/gca/{year}-Premier-League-Stats\"\n",
    "    },\n",
    "    {\n",
    "        \"name\": \"La Liga\",\n",
    "        \"url\": \"https://fbref.com/en/comps/12/{year}/gca/{year}-La-Liga-Stats\"\n",
    "    },\n",
    "    {\n",
    "        \"name\": \"Serie A\",\n",
    "        \"url\": \"https://fbref.com/en/comps/11/{year}/gca/{year}-Serie-A-Stats\"\n",
    "    },\n",
    "    {\n",
    "        \"name\": \"Ligue 1\",\n",
    "        \"url\": \"https://fbref.com/en/comps/13/{year}/gca/{year}-Ligue-1-Stats\"\n",
    "    },\n",
    "    {\n",
    "        \"name\": \"Eredivisie\",\n",
    "        \"url\": \"https://fbref.com/en/comps/23/{year}/gca/{year}-Eredivisie-Stats\"\n",
    "    },\n",
    "    {\n",
    "        \"name\": \"Primeira Liga\",\n",
    "        \"url\": \"https://fbref.com/en/comps/32/{year}/gca/{year}-Primeira-Liga-Stats\"\n",
    "    },\n",
    "    {\n",
    "        \"name\": \"Championship\",\n",
    "        \"url\": \"https://fbref.com/en/comps/10/{year}/gca/{year}-EFL-Championship-Stats\"\n",
    "    },\n",
    "    {\n",
    "        \"name\": \"Scottish Premiership\",\n",
    "        \"url\": \"https://fbref.com/en/comps/40/{year}/gca/{year}-Scottish-Premiership-Stats\"\n",
    "    }\n",
    " \n",
    "]\n",
    "\n",
    "player_gca = []\n",
    "player_gca = combine_data(years, leagueinfo, table_id='stats_gca')"
   ]
  },
  {
   "cell_type": "code",
   "execution_count": 4,
   "id": "b06f37cb",
   "metadata": {},
   "outputs": [
    {
     "name": "stdout",
     "output_type": "stream",
     "text": [
      "200 https://fbref.com/en/comps/20/2024-2025/gca/2024-2025-Bundesliga-Stats\n",
      "Found stats_squads_gca_for in comment for Bundesliga 2024-2025\n",
      "Scraping interrupted\n"
     ]
    }
   ],
   "source": [
    "team_gca = []\n",
    "team_gca = combine_data(years, leagueinfo, table_id='stats_squads_gca_for')"
   ]
  },
  {
   "cell_type": "code",
   "execution_count": 24,
   "id": "acaa5b9b",
   "metadata": {},
   "outputs": [
    {
     "name": "stdout",
     "output_type": "stream",
     "text": [
      "200 https://fbref.com/en/comps/20/2024-2025/gca/2024-2025-Bundesliga-Stats\n",
      "Found stats_squads_gca_against in comment for Bundesliga 2024-2025\n",
      "Scraping interrupted\n"
     ]
    }
   ],
   "source": [
    "team_gca_against = []\n",
    "team_gca_against = combine_data(years, leagueinfo, table_id='stats_squads_gca_against')"
   ]
  },
  {
   "cell_type": "code",
   "execution_count": 25,
   "id": "c8e1d951",
   "metadata": {},
   "outputs": [
    {
     "name": "stdout",
     "output_type": "stream",
     "text": [
      "200 https://fbref.com/en/comps/20/2024-2025/keepersadv/2024-2025-Bundesliga-Stats\n",
      "Found stats_keeper_adv in comment for Bundesliga 2024-2025\n",
      "Found stats_keeper_adv in comment for Bundesliga 2024-2025\n",
      "Scraping interrupted\n"
     ]
    }
   ],
   "source": [
    "years = [\"2024-2025\",\"2023-2024\",\"2022-2023\",\"2021-2022\",\"2020-2021\",\"2019-2020\",\"2018-2019\",\"2017-2018\",\"2016-2017\",\"2015-2016\",\"2014-2015\",\"2013-2014\",\"2012-2013\",\"2011-2012\",\"2010-2011\"]\n",
    "leagueinfo = [\n",
    "    {\n",
    "        \"name\": \"Bundesliga\",\n",
    "        \"url\": \"https://fbref.com/en/comps/20/{year}/keepersadv/{year}-Bundesliga-Stats\"\n",
    "    },\n",
    "    {\n",
    "        \"name\": \"Premier League\",\n",
    "        \"url\": \"https://fbref.com/en/comps/9/{year}/keepersadv/{year}-Premier-League-Stats\"\n",
    "    },\n",
    "    {\n",
    "        \"name\": \"La Liga\",\n",
    "        \"url\": \"https://fbref.com/en/comps/12/{year}/keepersadv/{year}-La-Liga-Stats\"\n",
    "    },\n",
    "    {\n",
    "        \"name\": \"Serie A\",\n",
    "        \"url\": \"https://fbref.com/en/comps/11/{year}/keepersadv/{year}-Serie-A-Stats\"\n",
    "    },\n",
    "    {\n",
    "        \"name\": \"Ligue 1\",\n",
    "        \"url\": \"https://fbref.com/en/comps/13/{year}/keepersadv/{year}-Ligue-1-Stats\"\n",
    "    },\n",
    "    {\n",
    "        \"name\": \"Eredivisie\",\n",
    "        \"url\": \"https://fbref.com/en/comps/23/{year}/keepersadv/{year}-Eredivisie-Stats\"\n",
    "    },\n",
    "    {\n",
    "        \"name\": \"Primeira Liga\",\n",
    "        \"url\": \"https://fbref.com/en/comps/32/{year}/keepersadv/{year}-Primeira-Liga-Stats\"\n",
    "    },\n",
    "    {\n",
    "        \"name\": \"Championship\",\n",
    "        \"url\": \"https://fbref.com/en/comps/10/{year}/keepersadv/{year}-EFL-Championship-Stats\"\n",
    "    },\n",
    "    {\n",
    "        \"name\": \"Scottish Premiership\",\n",
    "        \"url\": \"https://fbref.com/en/comps/40/{year}/keepersadv/{year}-Scottish-Premiership-Stats\"\n",
    "    }\n",
    " \n",
    "]\n",
    "player_keepersadv = []\n",
    "player_keepersadv = combine_data(years, leagueinfo, table_id='stats_keeper_adv')\n"
   ]
  },
  {
   "cell_type": "code",
   "execution_count": 9,
   "id": "4a31049e",
   "metadata": {},
   "outputs": [
    {
     "name": "stdout",
     "output_type": "stream",
     "text": [
      "200 https://fbref.com/en/comps/20/2024-2025/keepersadv/2024-2025-Bundesliga-Stats\n",
      "Found stats_squads_keeper_adv_for in comment for Bundesliga 2024-2025\n",
      "Scraping interrupted\n"
     ]
    }
   ],
   "source": [
    "team_keepersadv = []\n",
    "team_keepersadv = combine_data(years, leagueinfo, table_id='stats_squads_keeper_adv_for')"
   ]
  },
  {
   "cell_type": "code",
   "execution_count": 26,
   "id": "be7f78de",
   "metadata": {},
   "outputs": [
    {
     "name": "stdout",
     "output_type": "stream",
     "text": [
      "200 https://fbref.com/en/comps/20/2024-2025/keepersadv/2024-2025-Bundesliga-Stats\n",
      "Found stats_squads_keeper_adv_against in comment for Bundesliga 2024-2025\n",
      "200 https://fbref.com/en/comps/9/2024-2025/keepersadv/2024-2025-Premier-League-Stats\n",
      "Found stats_squads_keeper_adv_against in comment for Premier League 2024-2025\n",
      "Scraping interrupted\n"
     ]
    }
   ],
   "source": [
    "team_keepersadv_against = []\n",
    "team_keepersadv_against = combine_data(years, leagueinfo, table_id='stats_squads_keeper_adv_against')"
   ]
  },
  {
   "cell_type": "code",
   "execution_count": 27,
   "id": "c25aae4e",
   "metadata": {},
   "outputs": [
    {
     "name": "stdout",
     "output_type": "stream",
     "text": [
      "200 https://fbref.com/en/comps/20/2024-2025/shooting/2024-2025-Bundesliga-Stats\n",
      "Found stats_shooting in comment for Bundesliga 2024-2025\n",
      "Found stats_shooting in comment for Bundesliga 2024-2025\n",
      "Scraping interrupted\n"
     ]
    }
   ],
   "source": [
    "years = [\"2024-2025\",\"2023-2024\",\"2022-2023\",\"2021-2022\",\"2020-2021\",\"2019-2020\",\"2018-2019\",\"2017-2018\",\"2016-2017\",\"2015-2016\",\"2014-2015\",\"2013-2014\",\"2012-2013\",\"2011-2012\",\"2010-2011\"]\n",
    "leagueinfo = [\n",
    "    {\n",
    "        \"name\": \"Bundesliga\",\n",
    "        \"url\": \"https://fbref.com/en/comps/20/{year}/shooting/{year}-Bundesliga-Stats\"\n",
    "    },\n",
    "    {\n",
    "        \"name\": \"Premier League\",\n",
    "        \"url\": \"https://fbref.com/en/comps/9/{year}/shooting/{year}-Premier-League-Stats\"\n",
    "    },\n",
    "    {\n",
    "        \"name\": \"La Liga\",\n",
    "        \"url\": \"https://fbref.com/en/comps/12/{year}/shooting/{year}-La-Liga-Stats\"\n",
    "    },\n",
    "    {\n",
    "        \"name\": \"Serie A\",\n",
    "        \"url\": \"https://fbref.com/en/comps/11/{year}/shooting/{year}-Serie-A-Stats\"\n",
    "    },\n",
    "    {\n",
    "        \"name\": \"Ligue 1\",\n",
    "        \"url\": \"https://fbref.com/en/comps/13/{year}/shooting/{year}-Ligue-1-Stats\"\n",
    "    },\n",
    "    {\n",
    "        \"name\": \"Eredivisie\",\n",
    "        \"url\": \"https://fbref.com/en/comps/23/{year}/shooting/{year}-Eredivisie-Stats\"\n",
    "    },\n",
    "    {\n",
    "        \"name\": \"Primeira Liga\",\n",
    "        \"url\": \"https://fbref.com/en/comps/32/{year}/shooting/{year}-Primeira-Liga-Stats\"\n",
    "    },\n",
    "    {\n",
    "        \"name\": \"Championship\",\n",
    "        \"url\": \"https://fbref.com/en/comps/10/{year}/shooting/{year}-EFL-Championship-Stats\"\n",
    "    },\n",
    "    {\n",
    "        \"name\": \"Scottish Premiership\",\n",
    "        \"url\": \"https://fbref.com/en/comps/40/{year}/shooting/{year}-Scottish-Premiership-Stats\"\n",
    "    }\n",
    " \n",
    "]\n",
    "\n",
    "player_shooting = []\n",
    "player_shooting = combine_data(years, leagueinfo, table_id='stats_shooting')\n"
   ]
  },
  {
   "cell_type": "code",
   "execution_count": 12,
   "id": "1a44c87c",
   "metadata": {},
   "outputs": [
    {
     "name": "stdout",
     "output_type": "stream",
     "text": [
      "200 https://fbref.com/en/comps/20/2024-2025/shooting/2024-2025-Bundesliga-Stats\n",
      "Found stats_squads_shooting_for in comment for Bundesliga 2024-2025\n",
      "200 https://fbref.com/en/comps/9/2024-2025/shooting/2024-2025-Premier-League-Stats\n",
      "Found stats_squads_shooting_for in comment for Premier League 2024-2025\n",
      "Scraping interrupted\n"
     ]
    }
   ],
   "source": [
    "team_shooting = []\n",
    "team_shooting = combine_data(years, leagueinfo, table_id='stats_squads_shooting_for')"
   ]
  },
  {
   "cell_type": "code",
   "execution_count": 28,
   "id": "275e4613",
   "metadata": {},
   "outputs": [
    {
     "name": "stdout",
     "output_type": "stream",
     "text": [
      "200 https://fbref.com/en/comps/20/2024-2025/shooting/2024-2025-Bundesliga-Stats\n",
      "Found stats_squads_shooting_against in comment for Bundesliga 2024-2025\n",
      "Scraping interrupted\n"
     ]
    }
   ],
   "source": [
    "team_shooting_against = []\n",
    "team_shooting_against = combine_data(years, leagueinfo, table_id='stats_squads_shooting_against')"
   ]
  },
  {
   "cell_type": "code",
   "execution_count": 29,
   "id": "18ad7f06",
   "metadata": {},
   "outputs": [
    {
     "name": "stdout",
     "output_type": "stream",
     "text": [
      "200 https://fbref.com/en/comps/20/2024-2025/passing/2024-2025-Bundesliga-Stats\n",
      "Found stats_passing in comment for Bundesliga 2024-2025\n",
      "Found stats_passing in comment for Bundesliga 2024-2025\n",
      "Scraping interrupted\n"
     ]
    }
   ],
   "source": [
    "years = [\"2024-2025\",\"2023-2024\",\"2022-2023\",\"2021-2022\",\"2020-2021\",\"2019-2020\",\"2018-2019\",\"2017-2018\",\"2016-2017\",\"2015-2016\",\"2014-2015\",\"2013-2014\",\"2012-2013\",\"2011-2012\",\"2010-2011\"]\n",
    "leagueinfo = [\n",
    "    {\n",
    "        \"name\": \"Bundesliga\",\n",
    "        \"url\": \"https://fbref.com/en/comps/20/{year}/passing/{year}-Bundesliga-Stats\"\n",
    "    },\n",
    "    {\n",
    "        \"name\": \"Premier League\",\n",
    "        \"url\": \"https://fbref.com/en/comps/9/{year}/passing/{year}-Premier-League-Stats\"\n",
    "    },\n",
    "    {\n",
    "        \"name\": \"La Liga\",\n",
    "        \"url\": \"https://fbref.com/en/comps/12/{year}/passing/{year}-La-Liga-Stats\"\n",
    "    },\n",
    "    {\n",
    "        \"name\": \"Serie A\",\n",
    "        \"url\": \"https://fbref.com/en/comps/11/{year}/passing/{year}-Serie-A-Stats\"\n",
    "    },\n",
    "    {\n",
    "        \"name\": \"Ligue 1\",\n",
    "        \"url\": \"https://fbref.com/en/comps/13/{year}/passing/{year}-Ligue-1-Stats\"\n",
    "    },\n",
    "    {\n",
    "        \"name\": \"Eredivisie\",\n",
    "        \"url\": \"https://fbref.com/en/comps/23/{year}/passing/{year}-Eredivisie-Stats\"\n",
    "    },\n",
    "    {\n",
    "        \"name\": \"Primeira Liga\",\n",
    "        \"url\": \"https://fbref.com/en/comps/32/{year}/passing/{year}-Primeira-Liga-Stats\"\n",
    "    },\n",
    "    {\n",
    "        \"name\": \"Championship\",\n",
    "        \"url\": \"https://fbref.com/en/comps/10/{year}/passing/{year}-EFL-Championship-Stats\"\n",
    "    },\n",
    "    {\n",
    "        \"name\": \"Scottish Premiership\",\n",
    "        \"url\": \"https://fbref.com/en/comps/40/{year}/passing/{year}-Scottish-Premiership-Stats\"\n",
    "    }\n",
    " \n",
    "]\n",
    "\n",
    "player_passing = []\n",
    "player_passing = combine_data(years,leagueinfo, table_id = 'stats_passing')"
   ]
  },
  {
   "cell_type": "code",
   "execution_count": 14,
   "id": "788e4505",
   "metadata": {},
   "outputs": [
    {
     "name": "stdout",
     "output_type": "stream",
     "text": [
      "200 https://fbref.com/en/comps/20/2024-2025/passing/2024-2025-Bundesliga-Stats\n",
      "Found stats_squads_passing_for in comment for Bundesliga 2024-2025\n",
      "200 https://fbref.com/en/comps/9/2024-2025/passing/2024-2025-Premier-League-Stats\n",
      "Found stats_squads_passing_for in comment for Premier League 2024-2025\n",
      "Scraping interrupted\n"
     ]
    }
   ],
   "source": [
    "team_passing = []\n",
    "team_passing = combine_data(years,leagueinfo, table_id = 'stats_squads_passing_for')"
   ]
  },
  {
   "cell_type": "code",
   "execution_count": 30,
   "id": "bb93bec8",
   "metadata": {},
   "outputs": [
    {
     "name": "stdout",
     "output_type": "stream",
     "text": [
      "200 https://fbref.com/en/comps/20/2024-2025/passing/2024-2025-Bundesliga-Stats\n",
      "Found stats_squads_passing_against in comment for Bundesliga 2024-2025\n",
      "Scraping interrupted\n"
     ]
    }
   ],
   "source": [
    "team_passing_against = []\n",
    "team_passing_against = combine_data(years,leagueinfo, table_id = 'stats_squads_passing_against')"
   ]
  },
  {
   "cell_type": "code",
   "execution_count": 31,
   "id": "a8128f88",
   "metadata": {},
   "outputs": [
    {
     "name": "stdout",
     "output_type": "stream",
     "text": [
      "200 https://fbref.com/en/comps/20/2024-2025/passing_types/2024-2025-Bundesliga-Stats\n",
      "Found stats_passing_types in comment for Bundesliga 2024-2025\n",
      "Found stats_passing_types in comment for Bundesliga 2024-2025\n",
      "Scraping interrupted\n"
     ]
    }
   ],
   "source": [
    "years = [\"2024-2025\",\"2023-2024\",\"2022-2023\",\"2021-2022\",\"2020-2021\",\"2019-2020\",\"2018-2019\",\"2017-2018\",\"2016-2017\",\"2015-2016\",\"2014-2015\",\"2013-2014\",\"2012-2013\",\"2011-2012\",\"2010-2011\"]\n",
    "leagueinfo = [\n",
    "    {\n",
    "        \"name\": \"Bundesliga\",\n",
    "        \"url\": \"https://fbref.com/en/comps/20/{year}/passing_types/{year}-Bundesliga-Stats\"\n",
    "    },\n",
    "    {\n",
    "        \"name\": \"Premier League\",\n",
    "        \"url\": \"https://fbref.com/en/comps/9/{year}/passing_types/{year}-Premier-League-Stats\"\n",
    "    },\n",
    "    {\n",
    "        \"name\": \"La Liga\",\n",
    "        \"url\": \"https://fbref.com/en/comps/12/{year}/passing_types/{year}-La-Liga-Stats\"\n",
    "    },\n",
    "    {\n",
    "        \"name\": \"Serie A\",\n",
    "        \"url\": \"https://fbref.com/en/comps/11/{year}/passing_types/{year}-Serie-A-Stats\"\n",
    "    },\n",
    "    {\n",
    "        \"name\": \"Ligue 1\",\n",
    "        \"url\": \"https://fbref.com/en/comps/13/{year}/passing_types/{year}-Ligue-1-Stats\"\n",
    "    },\n",
    "    {\n",
    "        \"name\": \"Eredivisie\",\n",
    "        \"url\": \"https://fbref.com/en/comps/23/{year}/passing_types/{year}-Eredivisie-Stats\"\n",
    "    },\n",
    "    {\n",
    "        \"name\": \"Primeira Liga\",\n",
    "        \"url\": \"https://fbref.com/en/comps/32/{year}/passing_types/{year}-Primeira-Liga-Stats\"\n",
    "    },\n",
    "    {\n",
    "        \"name\": \"Championship\",\n",
    "        \"url\": \"https://fbref.com/en/comps/10/{year}/passing_types/{year}-EFL-Championship-Stats\"\n",
    "    },\n",
    "    {\n",
    "        \"name\": \"Scottish Premiership\",\n",
    "        \"url\": \"https://fbref.com/en/comps/40/{year}/passing_types/{year}-Scottish-Premiership-Stats\"\n",
    "    }\n",
    " \n",
    "]\n",
    "\n",
    "player_passing_type = []\n",
    "player_passing_type = combine_data(years,leagueinfo, table_id = 'stats_passing_types')"
   ]
  },
  {
   "cell_type": "code",
   "execution_count": 16,
   "id": "5503e92b",
   "metadata": {},
   "outputs": [
    {
     "name": "stdout",
     "output_type": "stream",
     "text": [
      "200 https://fbref.com/en/comps/20/2024-2025/passing_types/2024-2025-Bundesliga-Stats\n",
      "Found stats_squads_passing_types_for in comment for Bundesliga 2024-2025\n",
      "200 https://fbref.com/en/comps/9/2024-2025/passing_types/2024-2025-Premier-League-Stats\n",
      "Found stats_squads_passing_types_for in comment for Premier League 2024-2025\n",
      "200 https://fbref.com/en/comps/12/2024-2025/passing_types/2024-2025-La-Liga-Stats\n",
      "Found stats_squads_passing_types_for in comment for La Liga 2024-2025\n",
      "200 https://fbref.com/en/comps/11/2024-2025/passing_types/2024-2025-Serie-A-Stats\n",
      "Found stats_squads_passing_types_for in comment for Serie A 2024-2025\n",
      "200 https://fbref.com/en/comps/13/2024-2025/passing_types/2024-2025-Ligue-1-Stats\n",
      "Found stats_squads_passing_types_for in comment for Ligue 1 2024-2025\n",
      "200 https://fbref.com/en/comps/23/2024-2025/passing_types/2024-2025-Eredivisie-Stats\n",
      "Found stats_squads_passing_types_for in comment for Eredivisie 2024-2025\n",
      "Scraping interrupted\n"
     ]
    }
   ],
   "source": [
    "team_passing_type = []\n",
    "team_passing_type = combine_data(years,leagueinfo, table_id = 'stats_squads_passing_types_for')"
   ]
  },
  {
   "cell_type": "code",
   "execution_count": 32,
   "id": "527b684c",
   "metadata": {},
   "outputs": [
    {
     "name": "stdout",
     "output_type": "stream",
     "text": [
      "200 https://fbref.com/en/comps/20/2024-2025/passing_types/2024-2025-Bundesliga-Stats\n",
      "Found stats_squads_passing_types_against in comment for Bundesliga 2024-2025\n",
      "200 https://fbref.com/en/comps/9/2024-2025/passing_types/2024-2025-Premier-League-Stats\n",
      "Found stats_squads_passing_types_against in comment for Premier League 2024-2025\n",
      "Scraping interrupted\n"
     ]
    }
   ],
   "source": [
    "team_passing_type_against = []\n",
    "team_passing_type_against = combine_data(years,leagueinfo, table_id = 'stats_squads_passing_types_against')"
   ]
  },
  {
   "cell_type": "code",
   "execution_count": 33,
   "id": "1b9207c0",
   "metadata": {},
   "outputs": [
    {
     "name": "stdout",
     "output_type": "stream",
     "text": [
      "200 https://fbref.com/en/comps/20/2024-2025/defense/2024-2025-Bundesliga-Stats\n",
      "Found stats_defense in comment for Bundesliga 2024-2025\n",
      "Found stats_defense in comment for Bundesliga 2024-2025\n",
      "Scraping interrupted\n"
     ]
    }
   ],
   "source": [
    "years = [\"2024-2025\",\"2023-2024\",\"2022-2023\",\"2021-2022\",\"2020-2021\",\"2019-2020\",\"2018-2019\",\"2017-2018\",\"2016-2017\",\"2015-2016\",\"2014-2015\",\"2013-2014\",\"2012-2013\",\"2011-2012\",\"2010-2011\"]\n",
    "leagueinfo = [\n",
    "    {\n",
    "        \"name\": \"Bundesliga\",\n",
    "        \"url\": \"https://fbref.com/en/comps/20/{year}/defense/{year}-Bundesliga-Stats\"\n",
    "    },\n",
    "    {\n",
    "        \"name\": \"Premier League\",\n",
    "        \"url\": \"https://fbref.com/en/comps/9/{year}/defense/{year}-Premier-League-Stats\"\n",
    "    },\n",
    "    {\n",
    "        \"name\": \"La Liga\",\n",
    "        \"url\": \"https://fbref.com/en/comps/12/{year}/defense/{year}-La-Liga-Stats\"\n",
    "    },\n",
    "    {\n",
    "        \"name\": \"Serie A\",\n",
    "        \"url\": \"https://fbref.com/en/comps/11/{year}/defense/{year}-Serie-A-Stats\"\n",
    "    },\n",
    "    {\n",
    "        \"name\": \"Ligue 1\",\n",
    "        \"url\": \"https://fbref.com/en/comps/13/{year}/defense/{year}-Ligue-1-Stats\"\n",
    "    },\n",
    "    {\n",
    "        \"name\": \"Eredivisie\",\n",
    "        \"url\": \"https://fbref.com/en/comps/23/{year}/defense/{year}-Eredivisie-Stats\"\n",
    "    },\n",
    "    {\n",
    "        \"name\": \"Primeira Liga\",\n",
    "        \"url\": \"https://fbref.com/en/comps/32/{year}/defense/{year}-Primeira-Liga-Stats\"\n",
    "    },\n",
    "    {\n",
    "        \"name\": \"Championship\",\n",
    "        \"url\": \"https://fbref.com/en/comps/10/{year}/defense/{year}-EFL-Championship-Stats\"\n",
    "    },\n",
    "    {\n",
    "        \"name\": \"Scottish Premiership\",\n",
    "        \"url\": \"https://fbref.com/en/comps/40/{year}/defense/{year}-Scottish-Premiership-Stats\"\n",
    "    }\n",
    " \n",
    "]\n",
    "\n",
    "player_defense = []\n",
    "player_defense = combine_data(years,leagueinfo, table_id = 'stats_defense')"
   ]
  },
  {
   "cell_type": "code",
   "execution_count": 18,
   "id": "601b3885",
   "metadata": {},
   "outputs": [
    {
     "name": "stdout",
     "output_type": "stream",
     "text": [
      "200 https://fbref.com/en/comps/20/2024-2025/defense/2024-2025-Bundesliga-Stats\n",
      "Found stats_squads_defense_for in comment for Bundesliga 2024-2025\n",
      "200 https://fbref.com/en/comps/9/2024-2025/defense/2024-2025-Premier-League-Stats\n",
      "Found stats_squads_defense_for in comment for Premier League 2024-2025\n",
      "Scraping interrupted\n"
     ]
    }
   ],
   "source": [
    "team_defense = []\n",
    "team_defense = combine_data(years,leagueinfo, table_id = 'stats_squads_defense_for')"
   ]
  },
  {
   "cell_type": "code",
   "execution_count": 34,
   "id": "a0d55412",
   "metadata": {},
   "outputs": [
    {
     "name": "stdout",
     "output_type": "stream",
     "text": [
      "200 https://fbref.com/en/comps/20/2024-2025/defense/2024-2025-Bundesliga-Stats\n",
      "Found stats_squads_defense_against in comment for Bundesliga 2024-2025\n",
      "Scraping interrupted\n"
     ]
    }
   ],
   "source": [
    "team_defense_against = []\n",
    "team_defense_against = combine_data(years,leagueinfo, table_id = 'stats_squads_defense_against')"
   ]
  },
  {
   "cell_type": "code",
   "execution_count": 35,
   "id": "5de6c68d",
   "metadata": {},
   "outputs": [
    {
     "name": "stdout",
     "output_type": "stream",
     "text": [
      "200 https://fbref.com/en/comps/20/2024-2025/possession/2024-2025-Bundesliga-Stats\n",
      "Found stats_possession in comment for Bundesliga 2024-2025\n",
      "Found stats_possession in comment for Bundesliga 2024-2025\n",
      "Scraping interrupted\n"
     ]
    }
   ],
   "source": [
    "years = [\"2024-2025\",\"2023-2024\",\"2022-2023\",\"2021-2022\",\"2020-2021\",\"2019-2020\",\"2018-2019\",\"2017-2018\",\"2016-2017\",\"2015-2016\",\"2014-2015\",\"2013-2014\",\"2012-2013\",\"2011-2012\",\"2010-2011\"]\n",
    "leagueinfo = [\n",
    "    {\n",
    "        \"name\": \"Bundesliga\",\n",
    "        \"url\": \"https://fbref.com/en/comps/20/{year}/possession/{year}-Bundesliga-Stats\"\n",
    "    },\n",
    "    {\n",
    "        \"name\": \"Premier League\",\n",
    "        \"url\": \"https://fbref.com/en/comps/9/{year}/possession/{year}-Premier-League-Stats\"\n",
    "    },\n",
    "    {\n",
    "        \"name\": \"La Liga\",\n",
    "        \"url\": \"https://fbref.com/en/comps/12/{year}/possession/{year}-La-Liga-Stats\"\n",
    "    },\n",
    "    {\n",
    "        \"name\": \"Serie A\",\n",
    "        \"url\": \"https://fbref.com/en/comps/11/{year}/possession/{year}-Serie-A-Stats\"\n",
    "    },\n",
    "    {\n",
    "        \"name\": \"Ligue 1\",\n",
    "        \"url\": \"https://fbref.com/en/comps/13/{year}/possession/{year}-Ligue-1-Stats\"\n",
    "    },\n",
    "    {\n",
    "        \"name\": \"Eredivisie\",\n",
    "        \"url\": \"https://fbref.com/en/comps/23/{year}/possession/{year}-Eredivisie-Stats\"\n",
    "    },\n",
    "    {\n",
    "        \"name\": \"Primeira Liga\",\n",
    "        \"url\": \"https://fbref.com/en/comps/32/{year}/possession/{year}-Primeira-Liga-Stats\"\n",
    "    },\n",
    "    {\n",
    "        \"name\": \"Championship\",\n",
    "        \"url\": \"https://fbref.com/en/comps/10/{year}/possession/{year}-EFL-Championship-Stats\"\n",
    "    },\n",
    "    {\n",
    "        \"name\": \"Scottish Premiership\",\n",
    "        \"url\": \"https://fbref.com/en/comps/40/{year}/possession/{year}-Scottish-Premiership-Stats\"\n",
    "    }\n",
    " \n",
    "]\n",
    "\n",
    "player_possession = []\n",
    "player_possession = combine_data(years,leagueinfo, table_id = 'stats_possession')"
   ]
  },
  {
   "cell_type": "code",
   "execution_count": 21,
   "id": "75ed9685",
   "metadata": {},
   "outputs": [
    {
     "name": "stdout",
     "output_type": "stream",
     "text": [
      "200 https://fbref.com/en/comps/20/2024-2025/possession/2024-2025-Bundesliga-Stats\n",
      "Found stats_squads_possession_for in comment for Bundesliga 2024-2025\n",
      "Scraping interrupted\n"
     ]
    }
   ],
   "source": [
    "team_possession = []\n",
    "team_possession = combine_data(years,leagueinfo, table_id = 'stats_squads_possession_for')"
   ]
  },
  {
   "cell_type": "code",
   "execution_count": 22,
   "id": "a2bf5665",
   "metadata": {},
   "outputs": [
    {
     "name": "stdout",
     "output_type": "stream",
     "text": [
      "200 https://fbref.com/en/comps/20/2024-2025/possession/2024-2025-Bundesliga-Stats\n",
      "Found stats_squads_possession_against in comment for Bundesliga 2024-2025\n",
      "200 https://fbref.com/en/comps/9/2024-2025/possession/2024-2025-Premier-League-Stats\n",
      "Found stats_squads_possession_against in comment for Premier League 2024-2025\n",
      "Scraping interrupted\n"
     ]
    }
   ],
   "source": [
    "team_possession_against = []\n",
    "team_possession_against = combine_data(years,leagueinfo, table_id = 'stats_squads_possession_against')"
   ]
  },
  {
   "cell_type": "code",
   "execution_count": 14,
   "id": "6323de97",
   "metadata": {},
   "outputs": [
    {
     "name": "stdout",
     "output_type": "stream",
     "text": [
      "200 https://fbref.com/en/comps/20/2024-2025/2024-2025-Bundesliga-Stats\n",
      "200 https://fbref.com/en/comps/9/2024-2025/2024-2025-Premier-League-Stats\n",
      "200 https://fbref.com/en/comps/12/2024-2025/2024-2025-La-Liga-Stats\n",
      "200 https://fbref.com/en/comps/11/2024-2025/2024-2025-Serie-A-Stats\n",
      "Scraping interrupted\n"
     ]
    }
   ],
   "source": [
    "from scrape_stats_function import combine_match_data\n",
    "years = [\"2024-2025\",\"2023-2024\",\"2022-2023\",\"2021-2022\",\"2020-2021\",\"2019-2020\",\"2018-2019\",\"2017-2018\",\"2016-2017\",\"2015-2016\",\"2014-2015\",\"2013-2014\",\"2012-2013\",\"2011-2012\",\"2010-2011\"]\n",
    "leagueinfo = [\n",
    "    {\n",
    "        \"name\": \"Bundesliga\",\n",
    "        \"url\": \"https://fbref.com/en/comps/20/{year}/{year}-Bundesliga-Stats\"\n",
    "    },\n",
    "    {\n",
    "        \"name\": \"Premier League\",\n",
    "        \"url\": \"https://fbref.com/en/comps/9/{year}/{year}-Premier-League-Stats\"\n",
    "    },\n",
    "    {\n",
    "        \"name\": \"La Liga\",\n",
    "        \"url\": \"https://fbref.com/en/comps/12/{year}/{year}-La-Liga-Stats\"\n",
    "    },\n",
    "    {\n",
    "        \"name\": \"Serie A\",\n",
    "        \"url\": \"https://fbref.com/en/comps/11/{year}/{year}-Serie-A-Stats\"\n",
    "    },\n",
    "    {\n",
    "        \"name\": \"Ligue 1\",\n",
    "        \"url\": \"https://fbref.com/en/comps/13/{year}/{year}-Ligue-1-Stats\"\n",
    "    },\n",
    "    {\n",
    "        \"name\": \"Eredivisie\",\n",
    "        \"url\": \"https://fbref.com/en/comps/23/{year}/{year}-Eredivisie-Stats\"\n",
    "    },\n",
    "    {\n",
    "        \"name\": \"Primeira Liga\",\n",
    "        \"url\": \"https://fbref.com/en/comps/32/{year}/{year}-Primeira-Liga-Stats\"\n",
    "    },\n",
    "    {\n",
    "        \"name\": \"Championship\",\n",
    "        \"url\": \"https://fbref.com/en/comps/10/{year}/{year}-EFL-Championship-Stats\"\n",
    "    },\n",
    "    {\n",
    "        \"name\": \"Scottish Premiership\",\n",
    "        \"url\": \"https://fbref.com/en/comps/40/{year}/{year}-Scottish-Premiership-Stats\"\n",
    "    }\n",
    " \n",
    "]\n",
    "league_finish = []\n",
    "league_finish = combine_match_data(years, leagueinfo, table_id=None)"
   ]
  },
  {
   "cell_type": "code",
   "execution_count": null,
   "id": "da556405",
   "metadata": {},
   "outputs": [
    {
     "name": "stdout",
     "output_type": "stream",
     "text": [
      "200 https://fbref.com/en/comps/20/2024-2025/keepers/2024-2025-Bundesliga-Stats\n",
      "Found stats_keeper in comment for Bundesliga 2024-2025\n",
      "Found stats_keeper in comment for Bundesliga 2024-2025\n",
      "Scraping interrupted\n"
     ]
    }
   ],
   "source": [
    "years = [\"2024-2025\",\"2023-2024\",\"2022-2023\",\"2021-2022\",\"2020-2021\",\"2019-2020\",\"2018-2019\",\"2017-2018\",\"2016-2017\",\"2015-2016\",\"2014-2015\",\"2013-2014\",\"2012-2013\",\"2011-2012\",\"2010-2011\"]\n",
    "leagueinfo = [\n",
    "    {\n",
    "        \"name\": \"Bundesliga\",\n",
    "        \"url\": \"https://fbref.com/en/comps/20/{year}/keepers/{year}-Bundesliga-Stats\"\n",
    "    },\n",
    "    {\n",
    "        \"name\": \"Premier League\",\n",
    "        \"url\": \"https://fbref.com/en/comps/9/{year}/keepers/{year}-Premier-League-Stats\"\n",
    "    },\n",
    "    {\n",
    "        \"name\": \"La Liga\",\n",
    "        \"url\": \"https://fbref.com/en/comps/12/{year}/keepers/{year}-La-Liga-Stats\"\n",
    "    },\n",
    "    {\n",
    "        \"name\": \"Serie A\",\n",
    "        \"url\": \"https://fbref.com/en/comps/11/{year}/keepers/{year}-Serie-A-Stats\"\n",
    "    },\n",
    "    {\n",
    "        \"name\": \"Ligue 1\",\n",
    "        \"url\": \"https://fbref.com/en/comps/13/{year}/keepers/{year}-Ligue-1-Stats\"\n",
    "    },\n",
    "    {\n",
    "        \"name\": \"Eredivisie\",\n",
    "        \"url\": \"https://fbref.com/en/comps/23/{year}/keepers/{year}-Eredivisie-Stats\"\n",
    "    },\n",
    "    {\n",
    "        \"name\": \"Primeira Liga\",\n",
    "        \"url\": \"https://fbref.com/en/comps/32/{year}/keepers/{year}-Primeira-Liga-Stats\"\n",
    "    },\n",
    "    {\n",
    "        \"name\": \"EFL Championship\",\n",
    "        \"url\": \"https://fbref.com/en/comps/10/{year}/keepers/{year}-EFL-Championship-Stats\"\n",
    "    },\n",
    "    {\n",
    "        \"name\":\"Scottish Premiership\",\n",
    "        \"url\":\"https://fbref.com/en/comps/40/{year}/keepers/{year}-Scottish-Premiership-Stats\"\n",
    "    }\n",
    "\n",
    "]\n",
    "\n",
    "stats_keeper= []\n",
    "stats_keeper = combine_data(years, leagueinfo, table_id='stats_keeper')"
   ]
  },
  {
   "cell_type": "code",
   "execution_count": 37,
   "id": "73569748",
   "metadata": {},
   "outputs": [
    {
     "name": "stdout",
     "output_type": "stream",
     "text": [
      "200 https://fbref.com/en/comps/20/2024-2025/stats/2024-2025-Bundesliga-Stats\n",
      "Found stats_squads_standard_for in comment for Bundesliga 2024-2025\n",
      "200 https://fbref.com/en/comps/9/2024-2025/stats/2024-2025-Premier-League-Stats\n",
      "Found stats_squads_standard_for in comment for Premier League 2024-2025\n",
      "200 https://fbref.com/en/comps/12/2024-2025/stats/2024-2025-La-Liga-Stats\n",
      "Found stats_squads_standard_for in comment for La Liga 2024-2025\n",
      "Scraping interrupted\n"
     ]
    }
   ],
   "source": [
    "years = [\"2024-2025\",\"2023-2024\",\"2022-2023\",\"2021-2022\",\"2020-2021\",\"2019-2020\",\"2018-2019\",\"2017-2018\",\"2016-2017\",\"2015-2016\",\"2014-2015\",\"2013-2014\",\"2012-2013\",\"2011-2012\",\"2010-2011\"]\n",
    "leagueinfo = [\n",
    "    {\n",
    "        \"name\": \"Bundesliga\",\n",
    "        \"url\": \"https://fbref.com/en/comps/20/{year}/stats/{year}-Bundesliga-Stats\"\n",
    "    },\n",
    "    {\n",
    "        \"name\": \"Premier League\",\n",
    "        \"url\": \"https://fbref.com/en/comps/9/{year}/stats/{year}-Premier-League-Stats\"\n",
    "    },\n",
    "    {\n",
    "        \"name\": \"La Liga\",\n",
    "        \"url\": \"https://fbref.com/en/comps/12/{year}/stats/{year}-La-Liga-Stats\"\n",
    "    },\n",
    "    {\n",
    "        \"name\": \"Serie A\",\n",
    "        \"url\": \"https://fbref.com/en/comps/11/{year}/stats/{year}-Serie-A-Stats\"\n",
    "    },\n",
    "    {\n",
    "        \"name\": \"Ligue 1\",\n",
    "        \"url\": \"https://fbref.com/en/comps/13/{year}/stats/{year}-Ligue-1-Stats\"\n",
    "    },\n",
    "    {\n",
    "        \"name\": \"Eredivisie\",\n",
    "        \"url\": \"https://fbref.com/en/comps/23/{year}/stats/{year}-Eredivisie-Stats\"\n",
    "    },\n",
    "    {\n",
    "        \"name\": \"Primeira Liga\",\n",
    "        \"url\": \"https://fbref.com/en/comps/32/{year}/stats/{year}-Primeira-Liga-Stats\"\n",
    "    },\n",
    "    {\n",
    "        \"name\": \"Championship\",\n",
    "        \"url\": \"https://fbref.com/en/comps/10/{year}/stats/{year}-EFL-Championship-Stats\"\n",
    "    },\n",
    "    {\n",
    "        \"name\": \"Scottish Premiership\",\n",
    "        \"url\": \"https://fbref.com/en/comps/40/{year}/stats/{year}-Scottish-Premiership-Stats\"\n",
    "    }\n",
    " \n",
    "]\n",
    "\n",
    "stats_squad_standard= []\n",
    "stats_squad_standard = combine_data(years, leagueinfo, table_id='stats_squads_standard_for')\n"
   ]
  },
  {
   "cell_type": "code",
   "execution_count": 38,
   "id": "8c8fafca",
   "metadata": {},
   "outputs": [
    {
     "name": "stdout",
     "output_type": "stream",
     "text": [
      "200 https://fbref.com/en/comps/20/2024-2025/stats/2024-2025-Bundesliga-Stats\n",
      "Found stats_squads_standard_against in comment for Bundesliga 2024-2025\n",
      "200 https://fbref.com/en/comps/9/2024-2025/stats/2024-2025-Premier-League-Stats\n",
      "Found stats_squads_standard_against in comment for Premier League 2024-2025\n",
      "200 https://fbref.com/en/comps/12/2024-2025/stats/2024-2025-La-Liga-Stats\n",
      "Found stats_squads_standard_against in comment for La Liga 2024-2025\n",
      "200 https://fbref.com/en/comps/11/2024-2025/stats/2024-2025-Serie-A-Stats\n",
      "Found stats_squads_standard_against in comment for Serie A 2024-2025\n",
      "200 https://fbref.com/en/comps/13/2024-2025/stats/2024-2025-Ligue-1-Stats\n",
      "Found stats_squads_standard_against in comment for Ligue 1 2024-2025\n",
      "200 https://fbref.com/en/comps/23/2024-2025/stats/2024-2025-Eredivisie-Stats\n",
      "Found stats_squads_standard_against in comment for Eredivisie 2024-2025\n",
      "Scraping interrupted\n"
     ]
    }
   ],
   "source": [
    "stats_squad_standard_against = []\n",
    "stats_squad_standard_against = combine_data(years, leagueinfo, table_id='stats_squads_standard_against')\n"
   ]
  },
  {
   "cell_type": "code",
   "execution_count": 39,
   "id": "31a422dd",
   "metadata": {},
   "outputs": [
    {
     "name": "stdout",
     "output_type": "stream",
     "text": [
      "200 https://fbref.com/en/comps/20/2024-2025/stats/2024-2025-Bundesliga-Stats\n",
      "Found stats_standard in comment for Bundesliga 2024-2025\n",
      "Found stats_standard in comment for Bundesliga 2024-2025\n",
      "200 https://fbref.com/en/comps/9/2024-2025/stats/2024-2025-Premier-League-Stats\n",
      "Found stats_standard in comment for Premier League 2024-2025\n",
      "Found stats_standard in comment for Premier League 2024-2025\n",
      "200 https://fbref.com/en/comps/12/2024-2025/stats/2024-2025-La-Liga-Stats\n",
      "Found stats_standard in comment for La Liga 2024-2025\n",
      "Found stats_standard in comment for La Liga 2024-2025\n",
      "200 https://fbref.com/en/comps/11/2024-2025/stats/2024-2025-Serie-A-Stats\n",
      "Found stats_standard in comment for Serie A 2024-2025\n",
      "Found stats_standard in comment for Serie A 2024-2025\n",
      "200 https://fbref.com/en/comps/13/2024-2025/stats/2024-2025-Ligue-1-Stats\n",
      "Found stats_standard in comment for Ligue 1 2024-2025\n",
      "Found stats_standard in comment for Ligue 1 2024-2025\n",
      "200 https://fbref.com/en/comps/23/2024-2025/stats/2024-2025-Eredivisie-Stats\n",
      "Found stats_standard in comment for Eredivisie 2024-2025\n",
      "Found stats_standard in comment for Eredivisie 2024-2025\n",
      "200 https://fbref.com/en/comps/32/2024-2025/stats/2024-2025-Primeira-Liga-Stats\n",
      "Found stats_standard in comment for Primeira Liga 2024-2025\n",
      "Found stats_standard in comment for Primeira Liga 2024-2025\n",
      "200 https://fbref.com/en/comps/10/2024-2025/stats/2024-2025-EFL-Championship-Stats\n",
      "Found stats_standard in comment for Championship 2024-2025\n",
      "Found stats_standard in comment for Championship 2024-2025\n",
      "Scraping interrupted\n"
     ]
    }
   ],
   "source": [
    "years = [\"2024-2025\",\"2023-2024\",\"2022-2023\",\"2021-2022\",\"2020-2021\",\"2019-2020\",\"2018-2019\",\"2017-2018\",\"2016-2017\",\"2015-2016\",\"2014-2015\",\"2013-2014\",\"2012-2013\",\"2011-2012\",\"2010-2011\"]\n",
    "leagueinfo = [\n",
    "    {\n",
    "        \"name\": \"Bundesliga\",\n",
    "        \"url\": \"https://fbref.com/en/comps/20/{year}/stats/{year}-Bundesliga-Stats\"\n",
    "    },\n",
    "    {\n",
    "        \"name\": \"Premier League\",\n",
    "        \"url\": \"https://fbref.com/en/comps/9/{year}/stats/{year}-Premier-League-Stats\"\n",
    "    },\n",
    "    {\n",
    "        \"name\": \"La Liga\",\n",
    "        \"url\": \"https://fbref.com/en/comps/12/{year}/stats/{year}-La-Liga-Stats\"\n",
    "    },\n",
    "    {\n",
    "        \"name\": \"Serie A\",\n",
    "        \"url\": \"https://fbref.com/en/comps/11/{year}/stats/{year}-Serie-A-Stats\"\n",
    "    },\n",
    "    {\n",
    "        \"name\": \"Ligue 1\",\n",
    "        \"url\": \"https://fbref.com/en/comps/13/{year}/stats/{year}-Ligue-1-Stats\"\n",
    "    },\n",
    "    {\n",
    "        \"name\": \"Eredivisie\",\n",
    "        \"url\": \"https://fbref.com/en/comps/23/{year}/stats/{year}-Eredivisie-Stats\"\n",
    "    },\n",
    "    {\n",
    "        \"name\": \"Primeira Liga\",\n",
    "        \"url\": \"https://fbref.com/en/comps/32/{year}/stats/{year}-Primeira-Liga-Stats\"\n",
    "    },\n",
    "    {\n",
    "        \"name\": \"Championship\",\n",
    "        \"url\": \"https://fbref.com/en/comps/10/{year}/stats/{year}-EFL-Championship-Stats\"\n",
    "    },\n",
    "    {\n",
    "        \"name\": \"Scottish Premiership\",\n",
    "        \"url\": \"https://fbref.com/en/comps/40/{year}/stats/{year}-Scottish-Premiership-Stats\"\n",
    "    }\n",
    " \n",
    "]\n",
    "\n",
    "stats_player_standard = []\n",
    "stats_player_standard = combine_data(years, leagueinfo, table_id='stats_standard')"
   ]
  },
  {
   "cell_type": "code",
   "execution_count": 42,
   "id": "6adb50e4",
   "metadata": {},
   "outputs": [
    {
     "name": "stdout",
     "output_type": "stream",
     "text": [
      "200 https://fbref.com/en/comps/20/2024-2025/schedule/2024-2025-Bundesliga-Scores-and-Fixtures\n",
      "Scraping interrupted\n"
     ]
    }
   ],
   "source": [
    "years = [\"2024-2025\",\"2023-2024\",\"2022-2023\",\"2021-2022\",\"2020-2021\",\"2019-2020\",\"2018-2019\",\"2017-2018\",\"2016-2017\",\"2015-2016\",\"2014-2015\",\"2013-2014\",\"2012-2013\",\"2011-2012\",\"2010-2011\"]\n",
    "leagueinfo = [\n",
    "    {\n",
    "        \"name\": \"Bundesliga\",\n",
    "        \"url\": \"https://fbref.com/en/comps/20/{year}/schedule/{year}-Bundesliga-Scores-and-Fixtures\"\n",
    "    },\n",
    "    {\n",
    "        \"name\": \"Premier League\",\n",
    "        \"url\": \"https://fbref.com/en/comps/9/{year}/schedule/{year}-Premier-League-Scores-and-Fixtures\"\n",
    "    },\n",
    "    {\n",
    "        \"name\": \"Serie A\",\n",
    "        \"url\": \"https://fbref.com/en/comps/11/{year}/schedule/{year}-Serie-A-Scores-and-Fixtures\"\n",
    "    },\n",
    "    {\n",
    "        \"name\": \"La Liga\",\n",
    "        \"url\": \"https://fbref.com/en/comps/12/{year}/schedule/{year}-La-Liga-Scores-and-Fixtures\"\n",
    "    },\n",
    "    {\n",
    "        \"name\": \"Ligue 1\",\n",
    "        \"url\": \"https://fbref.com/en/comps/13/{year}/schedule/{year}-Ligue-1-Scores-and-Fixtures\"\n",
    "    },\n",
    "    {\n",
    "        \"name\": \"Eredivisie\",\n",
    "        \"url\": \"https://fbref.com/en/comps/23/{year}/schedule/{year}-Eredivisie-Scores-and-Fixtures\"\n",
    "    },\n",
    "    {        \"name\": \"Primeira Liga\",\n",
    "        \"url\": \"https://fbref.com/en/comps/32/{year}/schedule/{year}-Primeira-Liga-Scores-and-Fixtures\"\n",
    "    \n",
    "    },\n",
    "    {\n",
    "        \"name\": \"EFL Championship\",\n",
    "        \"url\": \"https://fbref.com/en/comps/10/{year}/schedule/{year}-EFL-Championship-Scores-and-Fixtures\"\n",
    "    },\n",
    "    {\n",
    "        \"name\": \"Scottish Premiership\",\n",
    "        \"url\": \"https://fbref.com/en/comps/40/{year}/schedule/{year}-Scottish-Premiership-Scores-and-Fixtures\"\n",
    "    }\n",
    "]\n",
    "\n",
    "schedule = []\n",
    "schedule = combine_match_data(years, leagueinfo, table_id=None)"
   ]
  }
 ],
 "metadata": {
  "kernelspec": {
   "display_name": "base",
   "language": "python",
   "name": "python3"
  },
  "language_info": {
   "codemirror_mode": {
    "name": "ipython",
    "version": 3
   },
   "file_extension": ".py",
   "mimetype": "text/x-python",
   "name": "python",
   "nbconvert_exporter": "python",
   "pygments_lexer": "ipython3",
   "version": "3.10.9"
  }
 },
 "nbformat": 4,
 "nbformat_minor": 5
}
