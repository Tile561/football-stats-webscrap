{
 "cells": [
  {
   "cell_type": "code",
   "execution_count": 1,
   "id": "a103da30",
   "metadata": {},
   "outputs": [
    {
     "name": "stderr",
     "output_type": "stream",
     "text": [
      "C:\\Users\\james\\AppData\\Local\\Temp\\ipykernel_17172\\2692661351.py:16: SADeprecationWarning: The Engine.table_names() method is deprecated and will be removed in a future release.  Please refer to Inspector.get_table_names(). (deprecated since: 1.4)\n",
      "  tables = engine.table_names()\n"
     ]
    },
    {
     "name": "stdout",
     "output_type": "stream",
     "text": [
      "Loaded DataFrame for table: raw_player_defense_df\n",
      "Loaded DataFrame for table: raw_player_gca_df\n",
      "Loaded DataFrame for table: raw_player_keeper_df\n",
      "Loaded DataFrame for table: raw_player_keepersadv_df\n",
      "Loaded DataFrame for table: raw_player_passing_df\n",
      "Loaded DataFrame for table: raw_player_passing_type_df\n",
      "Loaded DataFrame for table: raw_player_possession_df\n",
      "Loaded DataFrame for table: raw_player_shooting_df\n",
      "Loaded DataFrame for table: raw_stats_player_standard_df\n"
     ]
    }
   ],
   "source": [
    "import pandas as pd\n",
    "from sqlalchemy import create_engine\n",
    "pd.set_option('display.max_columns', None)\n",
    "\n",
    "import os\n",
    "\n",
    "\n",
    "username = \"root\"\n",
    "password = \"Totodile561!\"  \n",
    "host = 'localhost'  \n",
    "port = '3306'       \n",
    "database = 'football_db'\n",
    "\n",
    "engine = create_engine(f\"mysql+pymysql://{username}:{password}@{host}:{port}/{database}\")\n",
    "\n",
    "tables = engine.table_names()\n",
    "\n",
    "player_tables = [table for table in tables if \"player\" in table]\n",
    "dfs = {}\n",
    "\n",
    "for table in player_tables:\n",
    "    df = pd.read_sql_table(table, con=engine)\n",
    "    dfs[table] = df\n",
    "    print(f\"Loaded DataFrame for table: {table}\")"
   ]
  },
  {
   "cell_type": "code",
   "execution_count": 2,
   "id": "cd52d33e",
   "metadata": {},
   "outputs": [
    {
     "data": {
      "text/plain": [
       "dict_keys(['raw_player_defense_df', 'raw_player_gca_df', 'raw_player_keeper_df', 'raw_player_keepersadv_df', 'raw_player_passing_df', 'raw_player_passing_type_df', 'raw_player_possession_df', 'raw_player_shooting_df', 'raw_stats_player_standard_df'])"
      ]
     },
     "execution_count": 2,
     "metadata": {},
     "output_type": "execute_result"
    }
   ],
   "source": [
    "dfs.keys()\n",
    "#dfs[\"player_defense_df\"].head()"
   ]
  },
  {
   "cell_type": "code",
   "execution_count": 3,
   "id": "d2db19cc",
   "metadata": {},
   "outputs": [],
   "source": [
    "import hashlib\n",
    "\n",
    "def make_id(row):\n",
    "    unique_str = f\"{row['Player']}_{row['Nation']}_{row['Born']}\"\n",
    "    return hashlib.md5(unique_str.encode()).hexdigest()\n",
    "\n",
    "for name, df in dfs.items():\n",
    "    df['id'] = df.apply(make_id, axis=1)\n",
    "    dfs[name] = df"
   ]
  },
  {
   "cell_type": "code",
   "execution_count": 7,
   "id": "887fa352",
   "metadata": {},
   "outputs": [],
   "source": [
    "drop_rules = {\n",
    "    'eredivisie': list(range(2010, 2018)),\n",
    "    'championship': list(range(2010, 2018)),\n",
    "    'primeira liga': list(range(2010, 2018)),\n",
    "    'bundesliga': list(range(2010, 2017)),\n",
    "    'premier league': list(range(2010, 2017)),\n",
    "    'la liga': list(range(2010, 2017)),\n",
    "    'serie a': list(range(2010, 2017)),\n",
    "    'ligue 1': list(range(2010, 2017)),\n",
    "    'scottish premiership': list(range(2010, 2026))\n",
    "}\n",
    "\n",
    "exclude_tables = {\n",
    "    \"raw_stats_player_standard_df\",  \n",
    "    \"raw_player_keeper_df\",\n",
    "    \"raw_player_shooting_df\",   \n",
    "}\n",
    "def clean_text_columns(df, cols):\n",
    "    for col in cols:\n",
    "        if col in df.columns:\n",
    "            df[col] = df[col].astype(str).str.strip().str.lower()\n",
    "    return df\n",
    "\n",
    "def extract_league_and_season(df):\n",
    "    if 'League' not in df.columns:\n",
    "        return df\n",
    "\n",
    "    df[['league_name', 'season']] = df['League'].str.rsplit(' ', n=1, expand=True)\n",
    "    df['season_start'] = pd.to_numeric(df['season'].str[:4], errors='coerce')\n",
    "    df = df.dropna(subset=['season_start'])\n",
    "    df['season_start'] = df['season_start'].astype(int)\n",
    "    return df\n",
    "\n",
    "def apply_drop_rules(df, drop_rules):\n",
    "    if 'league_name' not in df.columns or 'season_start' not in df.columns:\n",
    "        return df\n",
    "\n",
    "    mask = df.apply(\n",
    "        lambda row: row['season_start'] in drop_rules.get(row['league_name'], []),\n",
    "        axis=1\n",
    "    )\n",
    "    return df[~mask]\n",
    "\n",
    "def process_player_df(df, drop_rules,skip_df=False):\n",
    "    df = extract_league_and_season(df)\n",
    "    df = clean_text_columns(df, ['Player', 'Nation', 'Squad', 'League','league_name','Pos'])\n",
    "\n",
    "    df = df.dropna(subset=['Player', 'Nation', 'Born'], how='all')\n",
    "    df = df[df['Player'].str.lower() != 'player']\n",
    "\n",
    "    if not skip_df:\n",
    "        df = apply_drop_rules(df, drop_rules)\n",
    "    return df\n",
    "\n",
    "for key, df in dfs.items():\n",
    "    if isinstance(df, pd.DataFrame):\n",
    "        skip = key in exclude_tables\n",
    "        dfs[key] = process_player_df(df, drop_rules,skip_df=skip)\n"
   ]
  },
  {
   "cell_type": "code",
   "execution_count": 10,
   "id": "5b69b0aa",
   "metadata": {},
   "outputs": [],
   "source": [
    "#dfs[\"raw_player_defense_df\"].tail()\n",
    "#dfs[\"raw_player_gca_df\"].head(30)\n",
    "\n"
   ]
  },
  {
   "cell_type": "code",
   "execution_count": 6,
   "id": "5ec12ec2",
   "metadata": {},
   "outputs": [
    {
     "data": {
      "text/plain": [
       "Rk               0.000000\n",
       "Player           0.000000\n",
       "Nation           0.000000\n",
       "Pos              0.000000\n",
       "Squad            0.000000\n",
       "Age              0.142650\n",
       "Born             0.136106\n",
       "MP               0.000000\n",
       "Starts           0.000000\n",
       "Min              0.001309\n",
       "90s              0.000000\n",
       "Gls              0.001309\n",
       "Ast              0.043187\n",
       "G+A              0.043187\n",
       "G-PK             0.010470\n",
       "PK               0.010470\n",
       "PKatt            0.057583\n",
       "CrdY             0.000000\n",
       "CrdR             0.000000\n",
       "xG              52.260800\n",
       "npxG            52.260800\n",
       "xAG             52.260800\n",
       "npxG+xAG        52.260800\n",
       "PrgC            52.260800\n",
       "PrgP            52.260800\n",
       "PrgR            52.260800\n",
       "Gls.1            0.001309\n",
       "Ast.1            0.043187\n",
       "G+A.1            0.043187\n",
       "G-PK.1           0.010470\n",
       "G+A-PK           0.052348\n",
       "xG.1            52.262109\n",
       "xAG.1           52.262109\n",
       "xG+xAG          52.262109\n",
       "npxG.1          52.262109\n",
       "npxG+xAG.1      52.262109\n",
       "Matches          6.029237\n",
       "League           0.000000\n",
       "id               0.000000\n",
       "league_name      0.000000\n",
       "season           0.000000\n",
       "season_start     0.000000\n",
       "dtype: float64"
      ]
     },
     "execution_count": 6,
     "metadata": {},
     "output_type": "execute_result"
    }
   ],
   "source": [
    "\n",
    "# Count nulls per column\n",
    "dfs[\"raw_stats_player_standard_df\"].isna().sum()\n",
    "\n",
    "# Or check percentage of missing values\n",
    "dfs[\"raw_stats_player_standard_df\"].isna().mean() * 100\n"
   ]
  }
 ],
 "metadata": {
  "kernelspec": {
   "display_name": "base",
   "language": "python",
   "name": "python3"
  },
  "language_info": {
   "codemirror_mode": {
    "name": "ipython",
    "version": 3
   },
   "file_extension": ".py",
   "mimetype": "text/x-python",
   "name": "python",
   "nbconvert_exporter": "python",
   "pygments_lexer": "ipython3",
   "version": "3.10.9"
  }
 },
 "nbformat": 4,
 "nbformat_minor": 5
}
