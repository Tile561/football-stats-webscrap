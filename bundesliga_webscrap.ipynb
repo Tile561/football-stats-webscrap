{
 "cells": [
  {
   "cell_type": "code",
   "execution_count": 11,
   "id": "f4acfd6b",
   "metadata": {},
   "outputs": [],
   "source": [
    "from bs4 import BeautifulSoup as bs, Comment\n",
    "import requests\n",
    "import pandas as pd\n",
    "pd.set_option('display.max_columns', None)\n",
    "\n"
   ]
  },
  {
   "cell_type": "code",
   "execution_count": null,
   "id": "0dc818cf",
   "metadata": {},
   "outputs": [],
   "source": [
    "url = \"https://fbref.com/en/comps/9/stats/bundesligaier-League-Stats\"\n",
    "headers = {'User-Agent': 'Mozilla/5.0'} \n",
    "response = requests.get(url, headers=headers)"
   ]
  },
  {
   "cell_type": "code",
   "execution_count": 15,
   "id": "96a089f4",
   "metadata": {},
   "outputs": [
    {
     "name": "stdout",
     "output_type": "stream",
     "text": [
      "403\n"
     ]
    }
   ],
   "source": [
    "soup = bs(response.text)\n",
    "type(soup)\n",
    "soup.find('title').text\n",
    "print(response.status_code)\n",
    "\n"
   ]
  },
  {
   "cell_type": "code",
   "execution_count": null,
   "id": "369e5da7",
   "metadata": {},
   "outputs": [
    {
     "ename": "AttributeError",
     "evalue": "'NoneType' object has no attribute 'find'",
     "output_type": "error",
     "traceback": [
      "\u001b[0;31m---------------------------------------------------------------------------\u001b[0m",
      "\u001b[0;31mAttributeError\u001b[0m                            Traceback (most recent call last)",
      "Cell \u001b[0;32mIn[14], line 3\u001b[0m\n\u001b[1;32m      1\u001b[0m \u001b[38;5;66;03m#extracting the headers\u001b[39;00m\n\u001b[1;32m      2\u001b[0m prem_table \u001b[38;5;241m=\u001b[39m soup\u001b[38;5;241m.\u001b[39mfind(\u001b[38;5;124m'\u001b[39m\u001b[38;5;124mtable\u001b[39m\u001b[38;5;124m'\u001b[39m, \u001b[38;5;28mid\u001b[39m\u001b[38;5;241m=\u001b[39m\u001b[38;5;124m\"\u001b[39m\u001b[38;5;124mstats_squads_standard_for\u001b[39m\u001b[38;5;124m\"\u001b[39m)\n\u001b[0;32m----> 3\u001b[0m prem_thead \u001b[38;5;241m=\u001b[39m \u001b[43mprem_table\u001b[49m\u001b[38;5;241;43m.\u001b[39;49m\u001b[43mfind\u001b[49m(\u001b[38;5;124m'\u001b[39m\u001b[38;5;124mthead\u001b[39m\u001b[38;5;124m'\u001b[39m)\n\u001b[1;32m      5\u001b[0m prem_header \u001b[38;5;241m=\u001b[39m prem_thead\u001b[38;5;241m.\u001b[39mfind_all(\u001b[38;5;124m'\u001b[39m\u001b[38;5;124mth\u001b[39m\u001b[38;5;124m'\u001b[39m)\n\u001b[1;32m      6\u001b[0m \u001b[38;5;66;03m#print(header)\u001b[39;00m\n",
      "\u001b[0;31mAttributeError\u001b[0m: 'NoneType' object has no attribute 'find'"
     ]
    }
   ],
   "source": [
    "#extracting the headers\n",
    "bundesliga_table = soup.find('table', id=\"stats_squads_standard_for\")\n",
    "bundesliga_thead = bundesliga_table.find('thead')\n",
    "\n",
    "bundesliga_header = bundesliga_thead.find_all('th')\n",
    "#print(header)\n",
    "columns = [ele.text.strip() for ele in bundesliga_header]\n",
    "#print(columns)\n",
    "\n",
    "\n",
    "#creating subheaders and headers\n",
    "n = 6 \n",
    "over_header = columns[:n]\n",
    "under_header = columns[n:]\n",
    "over_header_replaced = over_header[0]=\"Empty\"\n",
    "\n",
    "#structure of the subheader and header\n",
    "structure = {\n",
    "    'Empty': 4,\n",
    "    'Playing Time': 4,\n",
    "    'Performance': 8,\n",
    "    'Expected': 4,\n",
    "    'Progression': 2,\n",
    "    'Per 90 Minutes': 10\n",
    "}\n",
    "\n",
    "over_headers =[]\n",
    "for key, count in structure.items():\n",
    "    over_headers.extend([key]*count)\n",
    "\n",
    "#creating the subheader and header\n",
    "multi_index = pd.MultiIndex.from_arrays([over_headers, under_header])\n",
    "\n",
    "\n",
    "\n",
    "\n"
   ]
  },
  {
   "cell_type": "code",
   "execution_count": null,
   "id": "3eeb585d",
   "metadata": {},
   "outputs": [],
   "source": [
    "# extracting the rows\n",
    "bundesliga_tbody = bundesliga_table.find('tbody')\n",
    "\n",
    "\n",
    "rows = bundesliga_tbody.find_all('tr')\n",
    "d=[]\n",
    "for row in rows:\n",
    "    columns = row.find_all(['td', 'th'])\n",
    "    row = [ele.text.strip() for ele in columns]\n",
    "    d.append((row))\n",
    "    \n",
    "\n",
    "bundesliga_squad_df = pd.DataFrame(d, columns=multi_index)\n",
    "\n",
    "    "
   ]
  },
  {
   "cell_type": "code",
   "execution_count": null,
   "id": "6fabeb6d",
   "metadata": {},
   "outputs": [],
   "source": [
    "bundesliga_table_player = soup.find('table', id=\"stats_standard\")\n",
    "print(bundesliga_table_player)\n",
    "bundesliga_table = soup.find('table', id=\"stats_squads_standard_for\")\n",
    "bundesliga_thead = bundesliga_table.find('thead')\n",
    "\n",
    "\n"
   ]
  },
  {
   "cell_type": "code",
   "execution_count": null,
   "id": "8508c475",
   "metadata": {},
   "outputs": [],
   "source": [
    "# Look through all comments to find the table\n",
    "for comment in soup.find_all(string=lambda text: isinstance(text, Comment)):\n",
    "    if 'stats_standard' in comment:\n",
    "        comment_soup = bs(comment, 'html.parser')\n",
    "        bundesliga_table_player = comment_soup.find('table', id='stats_standard')\n",
    "\n",
    "bundesliga_thead_player = bundesliga_table_player.find('thead')\n",
    "bundesliga_header_player = bundesliga_thead_player.find_all('th')\n",
    "columns2 = [ele.text.strip() for ele in bundesliga_header_player]\n",
    "#print(columns)\n",
    "\n",
    "n = 7\n",
    "\n",
    "over_header2 = columns2[:n]\n",
    "under_header2 = columns2[n:]\n",
    "over_header_replaced2 = over_header2[0]=\"Empty\"\n",
    "over_header_replaced_end = over_header2[6]=\"Matches\"\n",
    "\n",
    "#structure of the subheader and header\n",
    "structure2 = {\n",
    "    'Empty': 7,\n",
    "    'Playing Time': 4,\n",
    "    'Performance': 8,\n",
    "    'Expected': 4,\n",
    "    'Progression': 3,\n",
    "    'Per 90 Minutes': 10,\n",
    "    'Matches': 1\n",
    "}\n",
    "\n",
    "over_headers2 =[]\n",
    "for key, count in structure2.items():\n",
    "    over_headers2.extend([key]*count)\n",
    "\n",
    "#creating the subheader and header\n",
    "multi_index2 = pd.MultiIndex.from_arrays([over_headers2, under_header2])\n",
    "\n",
    "print(multi_index2)"
   ]
  },
  {
   "cell_type": "code",
   "execution_count": null,
   "id": "3ba59f9a",
   "metadata": {},
   "outputs": [],
   "source": [
    "bundesliga_tbody_player = bundesliga_table_player.find('tbody')\n",
    "\n",
    "rows2 = bundesliga_tbody_player.find_all('tr')\n",
    "f=[]\n",
    "for row in rows2:\n",
    "    columns = row.find_all(['td','th'])\n",
    "    row = [ele.text.strip() for ele in columns]\n",
    "    f.append((row))\n",
    "\n",
    "bundesliga_players_df = pd.DataFrame(f, columns=multi_index2)"
   ]
  },
  {
   "cell_type": "code",
   "execution_count": null,
   "id": "9d2d72ff",
   "metadata": {},
   "outputs": [],
   "source": [
    "bundesliga_players_df"
   ]
  }
 ],
 "metadata": {
  "kernelspec": {
   "display_name": "base",
   "language": "python",
   "name": "python3"
  },
  "language_info": {
   "codemirror_mode": {
    "name": "ipython",
    "version": 3
   },
   "file_extension": ".py",
   "mimetype": "text/x-python",
   "name": "python",
   "nbconvert_exporter": "python",
   "pygments_lexer": "ipython3",
   "version": "3.10.10"
  }
 },
 "nbformat": 4,
 "nbformat_minor": 5
}
