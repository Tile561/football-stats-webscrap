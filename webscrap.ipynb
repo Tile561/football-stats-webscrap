{
 "cells": [
  {
   "cell_type": "code",
   "execution_count": 1,
   "id": "f4acfd6b",
   "metadata": {},
   "outputs": [],
   "source": [
    "from bs4 import BeautifulSoup as bs\n",
    "import requests\n",
    "import pandas as pd\n",
    "pd.set_option('display.max_columns', None)\n"
   ]
  },
  {
   "cell_type": "code",
   "execution_count": 2,
   "id": "0dc818cf",
   "metadata": {},
   "outputs": [
    {
     "data": {
      "text/plain": [
       "<Response [200]>"
      ]
     },
     "execution_count": 2,
     "metadata": {},
     "output_type": "execute_result"
    }
   ],
   "source": [
    "url = 'https://fbref.com/en/comps/9/stats/Premier-League-Stats'\n",
    "response = requests.get(url)\n",
    "response"
   ]
  },
  {
   "cell_type": "code",
   "execution_count": 3,
   "id": "96a089f4",
   "metadata": {},
   "outputs": [
    {
     "data": {
      "text/plain": [
       "'Premier League Player Stats | FBref.com'"
      ]
     },
     "execution_count": 3,
     "metadata": {},
     "output_type": "execute_result"
    }
   ],
   "source": [
    "soup = bs(response.text)\n",
    "type(soup)\n",
    "soup.find('title').text"
   ]
  },
  {
   "cell_type": "code",
   "execution_count": null,
   "id": "369e5da7",
   "metadata": {},
   "outputs": [],
   "source": [
    "#extracting the headers\n",
    "table = soup.find('table', id=\"stats_squads_standard_for\")\n",
    "thead = table.find('thead')\n",
    "\n",
    "header = thead.find_all('th')\n",
    "#print(header)\n",
    "columns = [ele.text.strip() for ele in header]\n",
    "#print(columns)\n",
    "\n",
    "\n",
    "#creating subheaders and headers\n",
    "n = 6 \n",
    "over_header = columns[:n]\n",
    "under_header = columns[n:]\n",
    "over_header2 = over_header[0]=\"Empty\"\n",
    "\n",
    "#structure of the subheader and header\n",
    "structure = {\n",
    "    'Empty': 4,\n",
    "    'Playing Time': 4,\n",
    "    'Performance': 8,\n",
    "    'Expected': 4,\n",
    "    'Progression': 2,\n",
    "    'Per 90 Minutes': 10\n",
    "}\n",
    "\n",
    "over_headers =[]\n",
    "for key, count in structure.items():\n",
    "    over_headers.extend([key]*count)\n",
    "\n",
    "#creating the subheader and header\n",
    "multi_index = pd.MultiIndex.from_arrays([over_headers, under_header])\n",
    "\n",
    "\n",
    "\n",
    "\n"
   ]
  },
  {
   "cell_type": "code",
   "execution_count": 27,
   "id": "3eeb585d",
   "metadata": {},
   "outputs": [],
   "source": [
    "# extracting the rows\n",
    "tbody = table.find('tbody')\n",
    "\n",
    "\n",
    "rows = tbody.find_all('tr')\n",
    "d=[]\n",
    "for row in rows:\n",
    "    columns = row.find_all(['td', 'th'])\n",
    "    row = [ele.text.strip() for ele in columns]\n",
    "    d.append((row))\n",
    "    \n",
    "\n",
    "squad_df = pd.DataFrame(d, columns=multi_index)\n",
    "\n",
    "    "
   ]
  }
 ],
 "metadata": {
  "kernelspec": {
   "display_name": "base",
   "language": "python",
   "name": "python3"
  },
  "language_info": {
   "codemirror_mode": {
    "name": "ipython",
    "version": 3
   },
   "file_extension": ".py",
   "mimetype": "text/x-python",
   "name": "python",
   "nbconvert_exporter": "python",
   "pygments_lexer": "ipython3",
   "version": "3.10.9"
  }
 },
 "nbformat": 4,
 "nbformat_minor": 5
}
